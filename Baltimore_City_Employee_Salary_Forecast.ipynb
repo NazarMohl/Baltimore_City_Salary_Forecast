{
 "cells": [
  {
   "cell_type": "markdown",
   "id": "d490802a",
   "metadata": {},
   "source": [
    "# Baltimore City Employee Salary Forecast"
   ]
  },
  {
   "cell_type": "markdown",
   "id": "aedf8caf",
   "metadata": {},
   "source": [
    "**Background:**  \n",
    "Baltimore is the largest city in the state of Maryland with the largest city payroll. Maryland is a fairly prosperous state with several important industries including services to the federal sector since Washington, DC, is literally next door. Also, Maryland is prominent in the medical and pharmaceutical industries. Again, proximity to federal enities is a driver to this with NIH, NIST and other sources of federal money nearby. Baltimore hosts Social Security Administration and the Centers for Medicare and Medicaid Services which in turn has brought a lot of insurance related jobs to Maryland and Baltimore particularly.  \n",
    "\n",
    "**Client:**  \n",
    "Our client is a recruiting company that is intersted in analyzing the employment possibilities in the state and local public sector. Specifically, in this project, we have been contracted to analyze employee employment/salary data in the City of Baltimore to see if salary growth can be predicted.  \n",
    "\n",
    "**Data:**  \n",
    "Baltimore pubishes salary data at this URL:  \n",
    "[Baltimore City Employee Salaries](https://data.baltimorecity.gov/datasets/baltimore::baltimore-city-employee-salaries/explore?showTable=true)  \n",
    "This dataset includes Baltimore City employee salaries and gross pay from fiscal year 2011 through last fiscal year and includes employees who were employed on June 30 of the last fiscal year.\n",
    "(Fiscal Year is from July 1 to June 30)."
   ]
  },
  {
   "cell_type": "code",
   "execution_count": 1,
   "id": "e0aa14a0",
   "metadata": {},
   "outputs": [],
   "source": [
    "import pandas as pd\n",
    "import numpy as np\n",
    "import matplotlib.pyplot as plt\n",
    "import matplotlib.ticker as mticker\n",
    "from sklearn.metrics import mean_squared_error\n",
    "from statsmodels.tsa.stattools import adfuller\n",
    "from statsmodels.tsa.arima.model import ARIMA\n",
    "from statsmodels.graphics.tsaplots import plot_acf, plot_pacf\n"
   ]
  },
  {
   "cell_type": "code",
   "execution_count": 2,
   "id": "acb146fa",
   "metadata": {},
   "outputs": [],
   "source": [
    "# Shows all columns in dataframe\n",
    "\n",
    "pd.set_option('display.max_columns', None)\n"
   ]
  },
  {
   "cell_type": "markdown",
   "id": "7439d615",
   "metadata": {},
   "source": [
    "### Input Data  \n",
    "Data was downloaded from the Baltimore City URL referenced above as a CSV file.  \n",
    "The CSV file is read into df_origin. df_origin is kept separate as a dataframe with the original pristine data.  \n",
    "New dataframes are created as needed to facilitate different analyses.\n"
   ]
  },
  {
   "cell_type": "code",
   "execution_count": 3,
   "id": "103143ba",
   "metadata": {},
   "outputs": [],
   "source": [
    "df_origin = pd.read_csv('data/Baltimore_City_Employee_Salaries.csv')"
   ]
  },
  {
   "cell_type": "code",
   "execution_count": 4,
   "id": "59bab64a",
   "metadata": {},
   "outputs": [
    {
     "data": {
      "text/html": [
       "<div>\n",
       "<style scoped>\n",
       "    .dataframe tbody tr th:only-of-type {\n",
       "        vertical-align: middle;\n",
       "    }\n",
       "\n",
       "    .dataframe tbody tr th {\n",
       "        vertical-align: top;\n",
       "    }\n",
       "\n",
       "    .dataframe thead th {\n",
       "        text-align: right;\n",
       "    }\n",
       "</style>\n",
       "<table border=\"1\" class=\"dataframe\">\n",
       "  <thead>\n",
       "    <tr style=\"text-align: right;\">\n",
       "      <th></th>\n",
       "      <th>lastName</th>\n",
       "      <th>middleInitial</th>\n",
       "      <th>firstName</th>\n",
       "      <th>jobClass</th>\n",
       "      <th>agencyName</th>\n",
       "      <th>agencyID</th>\n",
       "      <th>annualSalary</th>\n",
       "      <th>grossPay</th>\n",
       "      <th>hireDate</th>\n",
       "      <th>fiscalYear</th>\n",
       "      <th>ObjectId</th>\n",
       "    </tr>\n",
       "  </thead>\n",
       "  <tbody>\n",
       "    <tr>\n",
       "      <th>0</th>\n",
       "      <td>Aaron</td>\n",
       "      <td>D</td>\n",
       "      <td>Kareem</td>\n",
       "      <td>UTILITIES INST REPAIR II</td>\n",
       "      <td>Public Works - Water &amp; Waste Water</td>\n",
       "      <td>A50</td>\n",
       "      <td>34115.0</td>\n",
       "      <td>44557.99</td>\n",
       "      <td>2018-08-27</td>\n",
       "      <td>FY2021</td>\n",
       "      <td>1</td>\n",
       "    </tr>\n",
       "    <tr>\n",
       "      <th>1</th>\n",
       "      <td>Aaron</td>\n",
       "      <td>R</td>\n",
       "      <td>Lynda</td>\n",
       "      <td>ELECTION JUDGES REGULAR</td>\n",
       "      <td>D01</td>\n",
       "      <td>D01</td>\n",
       "      <td>0.0</td>\n",
       "      <td>185.00</td>\n",
       "      <td>2020-12-08</td>\n",
       "      <td>FY2021</td>\n",
       "      <td>2</td>\n",
       "    </tr>\n",
       "    <tr>\n",
       "      <th>2</th>\n",
       "      <td>Aaron</td>\n",
       "      <td>G</td>\n",
       "      <td>Patricia</td>\n",
       "      <td>FACILITIES/OFFICE SERVICES II</td>\n",
       "      <td>Mayor's Office of Employment Development</td>\n",
       "      <td>A03</td>\n",
       "      <td>63457.0</td>\n",
       "      <td>29461.96</td>\n",
       "      <td>1979-10-24</td>\n",
       "      <td>FY2021</td>\n",
       "      <td>3</td>\n",
       "    </tr>\n",
       "    <tr>\n",
       "      <th>3</th>\n",
       "      <td>Abadir</td>\n",
       "      <td>O</td>\n",
       "      <td>Adam</td>\n",
       "      <td>OPERATIONS OFFICER II</td>\n",
       "      <td>Health Department</td>\n",
       "      <td>A65</td>\n",
       "      <td>74299.0</td>\n",
       "      <td>85450.35</td>\n",
       "      <td>2016-12-12</td>\n",
       "      <td>FY2021</td>\n",
       "      <td>4</td>\n",
       "    </tr>\n",
       "    <tr>\n",
       "      <th>4</th>\n",
       "      <td>Abaku</td>\n",
       "      <td>O</td>\n",
       "      <td>Aigbolosimuan</td>\n",
       "      <td>POLICE OFFICER EID</td>\n",
       "      <td>Police Department</td>\n",
       "      <td>A99</td>\n",
       "      <td>68226.0</td>\n",
       "      <td>102775.97</td>\n",
       "      <td>2018-04-17</td>\n",
       "      <td>FY2021</td>\n",
       "      <td>5</td>\n",
       "    </tr>\n",
       "  </tbody>\n",
       "</table>\n",
       "</div>"
      ],
      "text/plain": [
       "  lastName middleInitial      firstName                       jobClass  \\\n",
       "0    Aaron             D         Kareem       UTILITIES INST REPAIR II   \n",
       "1    Aaron             R          Lynda        ELECTION JUDGES REGULAR   \n",
       "2    Aaron             G       Patricia  FACILITIES/OFFICE SERVICES II   \n",
       "3   Abadir             O           Adam          OPERATIONS OFFICER II   \n",
       "4    Abaku             O  Aigbolosimuan             POLICE OFFICER EID   \n",
       "\n",
       "                                 agencyName agencyID  annualSalary   grossPay  \\\n",
       "0        Public Works - Water & Waste Water      A50       34115.0   44557.99   \n",
       "1                                       D01      D01           0.0     185.00   \n",
       "2  Mayor's Office of Employment Development      A03       63457.0   29461.96   \n",
       "3                         Health Department      A65       74299.0   85450.35   \n",
       "4                         Police Department      A99       68226.0  102775.97   \n",
       "\n",
       "     hireDate fiscalYear  ObjectId  \n",
       "0  2018-08-27     FY2021         1  \n",
       "1  2020-12-08     FY2021         2  \n",
       "2  1979-10-24     FY2021         3  \n",
       "3  2016-12-12     FY2021         4  \n",
       "4  2018-04-17     FY2021         5  "
      ]
     },
     "execution_count": 4,
     "metadata": {},
     "output_type": "execute_result"
    }
   ],
   "source": [
    "df_origin.head()"
   ]
  },
  {
   "cell_type": "code",
   "execution_count": 5,
   "id": "51843909",
   "metadata": {},
   "outputs": [
    {
     "name": "stdout",
     "output_type": "stream",
     "text": [
      "<class 'pandas.core.frame.DataFrame'>\n",
      "RangeIndex: 154187 entries, 0 to 154186\n",
      "Data columns (total 11 columns):\n",
      " #   Column         Non-Null Count   Dtype  \n",
      "---  ------         --------------   -----  \n",
      " 0   lastName       153777 non-null  object \n",
      " 1   middleInitial  121195 non-null  object \n",
      " 2   firstName      154187 non-null  object \n",
      " 3   jobClass       154003 non-null  object \n",
      " 4   agencyName     154187 non-null  object \n",
      " 5   agencyID       154187 non-null  object \n",
      " 6   annualSalary   154187 non-null  float64\n",
      " 7   grossPay       154187 non-null  float64\n",
      " 8   hireDate       154185 non-null  object \n",
      " 9   fiscalYear     154187 non-null  object \n",
      " 10  ObjectId       154187 non-null  int64  \n",
      "dtypes: float64(2), int64(1), object(8)\n",
      "memory usage: 12.9+ MB\n"
     ]
    }
   ],
   "source": [
    "df_origin.info()"
   ]
  },
  {
   "cell_type": "code",
   "execution_count": 6,
   "id": "d8a3d772",
   "metadata": {},
   "outputs": [
    {
     "data": {
      "text/plain": [
       "Index(['lastName', 'middleInitial', 'firstName', 'jobClass', 'agencyName',\n",
       "       'agencyID', 'annualSalary', 'grossPay', 'hireDate', 'fiscalYear',\n",
       "       'ObjectId'],\n",
       "      dtype='object')"
      ]
     },
     "execution_count": 6,
     "metadata": {},
     "output_type": "execute_result"
    }
   ],
   "source": [
    "df_origin.columns"
   ]
  },
  {
   "cell_type": "code",
   "execution_count": 7,
   "id": "b3689f0c",
   "metadata": {},
   "outputs": [
    {
     "data": {
      "text/plain": [
       "Police Department                     34707\n",
       "Fire Department                       18374\n",
       "Public Works - Water & Waste Water    16353\n",
       "Health Department                      9640\n",
       "Transportation - Highways              7007\n",
       "                                      ...  \n",
       "War Memorial Commission                   8\n",
       "Wage Commissioner                         3\n",
       "HLTH-Emergency Medical Team               3\n",
       "FIN-RSP Admin (001)                       2\n",
       "Una 01 (001)                              1\n",
       "Name: agencyName, Length: 71, dtype: int64"
      ]
     },
     "execution_count": 7,
     "metadata": {},
     "output_type": "execute_result"
    }
   ],
   "source": [
    "df_origin['agencyName'].value_counts()"
   ]
  },
  {
   "cell_type": "code",
   "execution_count": 8,
   "id": "8ef13707",
   "metadata": {},
   "outputs": [
    {
     "data": {
      "text/plain": [
       "Smith,Richard 2008-08-18             14\n",
       "Johnson,William 2008-08-18           13\n",
       "Brown,Robert 1981-06-08              13\n",
       "Johnson,Wayne 1980-02-11             12\n",
       "Stone,Steven 1982-08-09              12\n",
       "                                     ..\n",
       "Quarles-Johnson,Shawna 2018-07-18     1\n",
       "Queen,Damita 2020-03-08               1\n",
       "Queen,Tina 2016-06-13                 1\n",
       "Quick,Ernestine 2006-11-07            1\n",
       "Zucker,Heather 2007-10-18             1\n",
       "Length: 31684, dtype: int64"
      ]
     },
     "execution_count": 8,
     "metadata": {},
     "output_type": "execute_result"
    }
   ],
   "source": [
    "(df_origin['lastName'] + ',' + df_origin['firstName'] + ' ' + df_origin['hireDate']).value_counts()"
   ]
  },
  {
   "cell_type": "markdown",
   "id": "be679175",
   "metadata": {},
   "source": [
    "### Selection of relevant departments for this project\n",
    "**The largest departments by number of employees are listed above. 3 of the top 4 departments (Police, Fire and Health) are concerned with public safety.  \n",
    "These 3 departments are the focus of this project.  \n",
    "A new dataframe df_init is being used to carry this reduced data set.**"
   ]
  },
  {
   "cell_type": "code",
   "execution_count": 9,
   "id": "ae870ac6",
   "metadata": {},
   "outputs": [
    {
     "name": "stdout",
     "output_type": "stream",
     "text": [
      "<class 'pandas.core.frame.DataFrame'>\n",
      "Int64Index: 62721 entries, 3 to 154186\n",
      "Data columns (total 11 columns):\n",
      " #   Column         Non-Null Count  Dtype  \n",
      "---  ------         --------------  -----  \n",
      " 0   lastName       62327 non-null  object \n",
      " 1   middleInitial  53430 non-null  object \n",
      " 2   firstName      62721 non-null  object \n",
      " 3   jobClass       62623 non-null  object \n",
      " 4   agencyName     62721 non-null  object \n",
      " 5   agencyID       62721 non-null  object \n",
      " 6   annualSalary   62721 non-null  float64\n",
      " 7   grossPay       62721 non-null  float64\n",
      " 8   hireDate       62720 non-null  object \n",
      " 9   fiscalYear     62721 non-null  object \n",
      " 10  ObjectId       62721 non-null  int64  \n",
      "dtypes: float64(2), int64(1), object(8)\n",
      "memory usage: 5.7+ MB\n"
     ]
    }
   ],
   "source": [
    "reqd_depts = ['Police Department', 'Fire Department', 'Health Department']\n",
    "df_init = df_origin.loc[df_origin['agencyName'].isin(reqd_depts) ]\n",
    "df_init.info()"
   ]
  },
  {
   "cell_type": "code",
   "execution_count": 10,
   "id": "c019b83a",
   "metadata": {
    "scrolled": true
   },
   "outputs": [
    {
     "data": {
      "text/html": [
       "<div>\n",
       "<style scoped>\n",
       "    .dataframe tbody tr th:only-of-type {\n",
       "        vertical-align: middle;\n",
       "    }\n",
       "\n",
       "    .dataframe tbody tr th {\n",
       "        vertical-align: top;\n",
       "    }\n",
       "\n",
       "    .dataframe thead th {\n",
       "        text-align: right;\n",
       "    }\n",
       "</style>\n",
       "<table border=\"1\" class=\"dataframe\">\n",
       "  <thead>\n",
       "    <tr style=\"text-align: right;\">\n",
       "      <th></th>\n",
       "      <th>lastName</th>\n",
       "      <th>middleInitial</th>\n",
       "      <th>firstName</th>\n",
       "      <th>jobClass</th>\n",
       "      <th>agencyName</th>\n",
       "      <th>agencyID</th>\n",
       "      <th>annualSalary</th>\n",
       "      <th>grossPay</th>\n",
       "      <th>hireDate</th>\n",
       "      <th>fiscalYear</th>\n",
       "      <th>ObjectId</th>\n",
       "    </tr>\n",
       "  </thead>\n",
       "  <tbody>\n",
       "    <tr>\n",
       "      <th>3</th>\n",
       "      <td>Abadir</td>\n",
       "      <td>O</td>\n",
       "      <td>Adam</td>\n",
       "      <td>OPERATIONS OFFICER II</td>\n",
       "      <td>Health Department</td>\n",
       "      <td>A65</td>\n",
       "      <td>74299.0</td>\n",
       "      <td>85450.35</td>\n",
       "      <td>2016-12-12</td>\n",
       "      <td>FY2021</td>\n",
       "      <td>4</td>\n",
       "    </tr>\n",
       "    <tr>\n",
       "      <th>4</th>\n",
       "      <td>Abaku</td>\n",
       "      <td>O</td>\n",
       "      <td>Aigbolosimuan</td>\n",
       "      <td>POLICE OFFICER EID</td>\n",
       "      <td>Police Department</td>\n",
       "      <td>A99</td>\n",
       "      <td>68226.0</td>\n",
       "      <td>102775.97</td>\n",
       "      <td>2018-04-17</td>\n",
       "      <td>FY2021</td>\n",
       "      <td>5</td>\n",
       "    </tr>\n",
       "    <tr>\n",
       "      <th>7</th>\n",
       "      <td>Abdal-Rahim</td>\n",
       "      <td>A</td>\n",
       "      <td>Naim</td>\n",
       "      <td>FIRE PUMP OPERATOR SUPPRESSION</td>\n",
       "      <td>Fire Department</td>\n",
       "      <td>A64</td>\n",
       "      <td>72007.0</td>\n",
       "      <td>103168.86</td>\n",
       "      <td>2011-03-30</td>\n",
       "      <td>FY2021</td>\n",
       "      <td>8</td>\n",
       "    </tr>\n",
       "    <tr>\n",
       "      <th>8</th>\n",
       "      <td>Abdi</td>\n",
       "      <td>W</td>\n",
       "      <td>Ezekiel</td>\n",
       "      <td>POLICE SERGEANT</td>\n",
       "      <td>Police Department</td>\n",
       "      <td>A99</td>\n",
       "      <td>97058.0</td>\n",
       "      <td>143215.40</td>\n",
       "      <td>2007-06-14</td>\n",
       "      <td>FY2021</td>\n",
       "      <td>9</td>\n",
       "    </tr>\n",
       "    <tr>\n",
       "      <th>9</th>\n",
       "      <td>Abdrabou</td>\n",
       "      <td>NaN</td>\n",
       "      <td>Fouad</td>\n",
       "      <td>POLICE OFFICER</td>\n",
       "      <td>Police Department</td>\n",
       "      <td>A99</td>\n",
       "      <td>55117.0</td>\n",
       "      <td>41074.56</td>\n",
       "      <td>2020-08-25</td>\n",
       "      <td>FY2021</td>\n",
       "      <td>10</td>\n",
       "    </tr>\n",
       "  </tbody>\n",
       "</table>\n",
       "</div>"
      ],
      "text/plain": [
       "      lastName middleInitial      firstName                        jobClass  \\\n",
       "3       Abadir             O           Adam           OPERATIONS OFFICER II   \n",
       "4        Abaku             O  Aigbolosimuan              POLICE OFFICER EID   \n",
       "7  Abdal-Rahim             A           Naim  FIRE PUMP OPERATOR SUPPRESSION   \n",
       "8         Abdi             W        Ezekiel                 POLICE SERGEANT   \n",
       "9     Abdrabou           NaN          Fouad                  POLICE OFFICER   \n",
       "\n",
       "          agencyName agencyID  annualSalary   grossPay    hireDate fiscalYear  \\\n",
       "3  Health Department      A65       74299.0   85450.35  2016-12-12     FY2021   \n",
       "4  Police Department      A99       68226.0  102775.97  2018-04-17     FY2021   \n",
       "7    Fire Department      A64       72007.0  103168.86  2011-03-30     FY2021   \n",
       "8  Police Department      A99       97058.0  143215.40  2007-06-14     FY2021   \n",
       "9  Police Department      A99       55117.0   41074.56  2020-08-25     FY2021   \n",
       "\n",
       "   ObjectId  \n",
       "3         4  \n",
       "4         5  \n",
       "7         8  \n",
       "8         9  \n",
       "9        10  "
      ]
     },
     "execution_count": 10,
     "metadata": {},
     "output_type": "execute_result"
    }
   ],
   "source": [
    "df_init.head()    # Quick visual confirmation that only the required 3 departments rows were included in this dataframe"
   ]
  },
  {
   "cell_type": "code",
   "execution_count": 11,
   "id": "0221d117",
   "metadata": {},
   "outputs": [],
   "source": [
    "# df_init.loc[df_init.index, ['fiscalYear']] = df_init['fiscalYear'].str.slice(2,6).astype(int)\n",
    "# df_init['fiscalYear_new'] = df_init.loc[:, ('fiscalYear')]\n",
    "# df_init['fiscalYear_new'] = df_init['fiscalYear'].str[2:].copy()\n",
    "# df_init['fiscalYear_new']\n",
    "# df_init.loc[df_init.index, ['fiscalYear']] = df_init['fiscalYear'].str.slice(2,6)\n",
    "# df_init['fiscalYear'] = df_init['fiscalYear'].str.split(\"Y\").str.get(1)\n",
    "# df_init['fiscalYear']\n",
    "# df_init['fiscalYear'] = df_init.loc[df_init.fiscalYear, 2:]"
   ]
  },
  {
   "cell_type": "code",
   "execution_count": 12,
   "id": "0cdafaa8",
   "metadata": {},
   "outputs": [
    {
     "name": "stderr",
     "output_type": "stream",
     "text": [
      "C:\\Users\\NM\\AppData\\Local\\Temp\\ipykernel_21352\\273823209.py:1: SettingWithCopyWarning: \n",
      "A value is trying to be set on a copy of a slice from a DataFrame.\n",
      "Try using .loc[row_indexer,col_indexer] = value instead\n",
      "\n",
      "See the caveats in the documentation: https://pandas.pydata.org/pandas-docs/stable/user_guide/indexing.html#returning-a-view-versus-a-copy\n",
      "  df_init['fiscalYear'] = df_init['fiscalYear'].str[-4:]\n"
     ]
    }
   ],
   "source": [
    "df_init['fiscalYear'] = df_init['fiscalYear'].str[-4:]\n"
   ]
  },
  {
   "cell_type": "code",
   "execution_count": 13,
   "id": "74eae039",
   "metadata": {},
   "outputs": [
    {
     "name": "stdout",
     "output_type": "stream",
     "text": [
      "<class 'pandas.core.frame.DataFrame'>\n",
      "Int64Index: 62721 entries, 3 to 154186\n",
      "Data columns (total 11 columns):\n",
      " #   Column         Non-Null Count  Dtype  \n",
      "---  ------         --------------  -----  \n",
      " 0   lastName       62327 non-null  object \n",
      " 1   middleInitial  53430 non-null  object \n",
      " 2   firstName      62721 non-null  object \n",
      " 3   jobClass       62623 non-null  object \n",
      " 4   agencyName     62721 non-null  object \n",
      " 5   agencyID       62721 non-null  object \n",
      " 6   annualSalary   62721 non-null  float64\n",
      " 7   grossPay       62721 non-null  float64\n",
      " 8   hireDate       62720 non-null  object \n",
      " 9   fiscalYear     62721 non-null  int64  \n",
      " 10  ObjectId       62721 non-null  int64  \n",
      "dtypes: float64(2), int64(2), object(7)\n",
      "memory usage: 5.7+ MB\n"
     ]
    },
    {
     "name": "stderr",
     "output_type": "stream",
     "text": [
      "C:\\Users\\NM\\AppData\\Local\\Temp\\ipykernel_21352\\967762316.py:1: SettingWithCopyWarning: \n",
      "A value is trying to be set on a copy of a slice from a DataFrame.\n",
      "Try using .loc[row_indexer,col_indexer] = value instead\n",
      "\n",
      "See the caveats in the documentation: https://pandas.pydata.org/pandas-docs/stable/user_guide/indexing.html#returning-a-view-versus-a-copy\n",
      "  df_init['fiscalYear'] = pd.to_numeric(df_init['fiscalYear'])  # Change fiscal year to integer\n"
     ]
    }
   ],
   "source": [
    "df_init['fiscalYear'] = pd.to_numeric(df_init['fiscalYear'])  # Change fiscal year to integer\n",
    "df_init.info()"
   ]
  },
  {
   "cell_type": "code",
   "execution_count": 14,
   "id": "1c523cc4",
   "metadata": {},
   "outputs": [
    {
     "name": "stderr",
     "output_type": "stream",
     "text": [
      "C:\\Users\\NM\\AppData\\Local\\Temp\\ipykernel_21352\\4246559777.py:1: SettingWithCopyWarning: \n",
      "A value is trying to be set on a copy of a slice from a DataFrame.\n",
      "Try using .loc[row_indexer,col_indexer] = value instead\n",
      "\n",
      "See the caveats in the documentation: https://pandas.pydata.org/pandas-docs/stable/user_guide/indexing.html#returning-a-view-versus-a-copy\n",
      "  df_init['date'] = df_init['fiscalYear'] * 10000 + 101\n",
      "C:\\Users\\NM\\AppData\\Local\\Temp\\ipykernel_21352\\4246559777.py:2: SettingWithCopyWarning: \n",
      "A value is trying to be set on a copy of a slice from a DataFrame.\n",
      "Try using .loc[row_indexer,col_indexer] = value instead\n",
      "\n",
      "See the caveats in the documentation: https://pandas.pydata.org/pandas-docs/stable/user_guide/indexing.html#returning-a-view-versus-a-copy\n",
      "  df_init['date'] = df_init['date'].astype(str)\n"
     ]
    }
   ],
   "source": [
    "df_init['date'] = df_init['fiscalYear'] * 10000 + 101\n",
    "df_init['date'] = df_init['date'].astype(str)"
   ]
  },
  {
   "cell_type": "code",
   "execution_count": 15,
   "id": "0aef3a76",
   "metadata": {},
   "outputs": [
    {
     "data": {
      "text/html": [
       "<div>\n",
       "<style scoped>\n",
       "    .dataframe tbody tr th:only-of-type {\n",
       "        vertical-align: middle;\n",
       "    }\n",
       "\n",
       "    .dataframe tbody tr th {\n",
       "        vertical-align: top;\n",
       "    }\n",
       "\n",
       "    .dataframe thead th {\n",
       "        text-align: right;\n",
       "    }\n",
       "</style>\n",
       "<table border=\"1\" class=\"dataframe\">\n",
       "  <thead>\n",
       "    <tr style=\"text-align: right;\">\n",
       "      <th></th>\n",
       "      <th>lastName</th>\n",
       "      <th>middleInitial</th>\n",
       "      <th>firstName</th>\n",
       "      <th>jobClass</th>\n",
       "      <th>agencyName</th>\n",
       "      <th>agencyID</th>\n",
       "      <th>annualSalary</th>\n",
       "      <th>grossPay</th>\n",
       "      <th>hireDate</th>\n",
       "      <th>fiscalYear</th>\n",
       "      <th>ObjectId</th>\n",
       "      <th>date</th>\n",
       "    </tr>\n",
       "    <tr>\n",
       "      <th>date</th>\n",
       "      <th></th>\n",
       "      <th></th>\n",
       "      <th></th>\n",
       "      <th></th>\n",
       "      <th></th>\n",
       "      <th></th>\n",
       "      <th></th>\n",
       "      <th></th>\n",
       "      <th></th>\n",
       "      <th></th>\n",
       "      <th></th>\n",
       "      <th></th>\n",
       "    </tr>\n",
       "  </thead>\n",
       "  <tbody>\n",
       "    <tr>\n",
       "      <th>2021-01-01</th>\n",
       "      <td>Abadir</td>\n",
       "      <td>O</td>\n",
       "      <td>Adam</td>\n",
       "      <td>OPERATIONS OFFICER II</td>\n",
       "      <td>Health Department</td>\n",
       "      <td>A65</td>\n",
       "      <td>74299.0</td>\n",
       "      <td>85450.35</td>\n",
       "      <td>2016-12-12</td>\n",
       "      <td>2021</td>\n",
       "      <td>4</td>\n",
       "      <td>20210101</td>\n",
       "    </tr>\n",
       "    <tr>\n",
       "      <th>2021-01-01</th>\n",
       "      <td>Abaku</td>\n",
       "      <td>O</td>\n",
       "      <td>Aigbolosimuan</td>\n",
       "      <td>POLICE OFFICER EID</td>\n",
       "      <td>Police Department</td>\n",
       "      <td>A99</td>\n",
       "      <td>68226.0</td>\n",
       "      <td>102775.97</td>\n",
       "      <td>2018-04-17</td>\n",
       "      <td>2021</td>\n",
       "      <td>5</td>\n",
       "      <td>20210101</td>\n",
       "    </tr>\n",
       "    <tr>\n",
       "      <th>2021-01-01</th>\n",
       "      <td>Abdal-Rahim</td>\n",
       "      <td>A</td>\n",
       "      <td>Naim</td>\n",
       "      <td>FIRE PUMP OPERATOR SUPPRESSION</td>\n",
       "      <td>Fire Department</td>\n",
       "      <td>A64</td>\n",
       "      <td>72007.0</td>\n",
       "      <td>103168.86</td>\n",
       "      <td>2011-03-30</td>\n",
       "      <td>2021</td>\n",
       "      <td>8</td>\n",
       "      <td>20210101</td>\n",
       "    </tr>\n",
       "    <tr>\n",
       "      <th>2021-01-01</th>\n",
       "      <td>Abdi</td>\n",
       "      <td>W</td>\n",
       "      <td>Ezekiel</td>\n",
       "      <td>POLICE SERGEANT</td>\n",
       "      <td>Police Department</td>\n",
       "      <td>A99</td>\n",
       "      <td>97058.0</td>\n",
       "      <td>143215.40</td>\n",
       "      <td>2007-06-14</td>\n",
       "      <td>2021</td>\n",
       "      <td>9</td>\n",
       "      <td>20210101</td>\n",
       "    </tr>\n",
       "    <tr>\n",
       "      <th>2021-01-01</th>\n",
       "      <td>Abdrabou</td>\n",
       "      <td>NaN</td>\n",
       "      <td>Fouad</td>\n",
       "      <td>POLICE OFFICER</td>\n",
       "      <td>Police Department</td>\n",
       "      <td>A99</td>\n",
       "      <td>55117.0</td>\n",
       "      <td>41074.56</td>\n",
       "      <td>2020-08-25</td>\n",
       "      <td>2021</td>\n",
       "      <td>10</td>\n",
       "      <td>20210101</td>\n",
       "    </tr>\n",
       "  </tbody>\n",
       "</table>\n",
       "</div>"
      ],
      "text/plain": [
       "               lastName middleInitial      firstName  \\\n",
       "date                                                   \n",
       "2021-01-01       Abadir             O           Adam   \n",
       "2021-01-01        Abaku             O  Aigbolosimuan   \n",
       "2021-01-01  Abdal-Rahim             A           Naim   \n",
       "2021-01-01         Abdi             W        Ezekiel   \n",
       "2021-01-01     Abdrabou           NaN          Fouad   \n",
       "\n",
       "                                  jobClass         agencyName agencyID  \\\n",
       "date                                                                     \n",
       "2021-01-01           OPERATIONS OFFICER II  Health Department      A65   \n",
       "2021-01-01              POLICE OFFICER EID  Police Department      A99   \n",
       "2021-01-01  FIRE PUMP OPERATOR SUPPRESSION    Fire Department      A64   \n",
       "2021-01-01                 POLICE SERGEANT  Police Department      A99   \n",
       "2021-01-01                  POLICE OFFICER  Police Department      A99   \n",
       "\n",
       "            annualSalary   grossPay    hireDate  fiscalYear  ObjectId  \\\n",
       "date                                                                    \n",
       "2021-01-01       74299.0   85450.35  2016-12-12        2021         4   \n",
       "2021-01-01       68226.0  102775.97  2018-04-17        2021         5   \n",
       "2021-01-01       72007.0  103168.86  2011-03-30        2021         8   \n",
       "2021-01-01       97058.0  143215.40  2007-06-14        2021         9   \n",
       "2021-01-01       55117.0   41074.56  2020-08-25        2021        10   \n",
       "\n",
       "                date  \n",
       "date                  \n",
       "2021-01-01  20210101  \n",
       "2021-01-01  20210101  \n",
       "2021-01-01  20210101  \n",
       "2021-01-01  20210101  \n",
       "2021-01-01  20210101  "
      ]
     },
     "execution_count": 15,
     "metadata": {},
     "output_type": "execute_result"
    }
   ],
   "source": [
    "df_init = df_init.set_index(pd.to_datetime((df_init['date']), yearfirst=True))\n",
    "df_init.head()     # Confirm that Index has been set to date"
   ]
  },
  {
   "cell_type": "code",
   "execution_count": 16,
   "id": "1ae7fbd4",
   "metadata": {},
   "outputs": [
    {
     "name": "stdout",
     "output_type": "stream",
     "text": [
      "<class 'pandas.core.frame.DataFrame'>\n",
      "DatetimeIndex: 62721 entries, 2021-01-01 to 2011-01-01\n",
      "Data columns (total 12 columns):\n",
      " #   Column         Non-Null Count  Dtype  \n",
      "---  ------         --------------  -----  \n",
      " 0   lastName       62327 non-null  object \n",
      " 1   middleInitial  53430 non-null  object \n",
      " 2   firstName      62721 non-null  object \n",
      " 3   jobClass       62623 non-null  object \n",
      " 4   agencyName     62721 non-null  object \n",
      " 5   agencyID       62721 non-null  object \n",
      " 6   annualSalary   62721 non-null  float64\n",
      " 7   grossPay       62721 non-null  float64\n",
      " 8   hireDate       62720 non-null  object \n",
      " 9   fiscalYear     62721 non-null  int64  \n",
      " 10  ObjectId       62721 non-null  int64  \n",
      " 11  date           62721 non-null  object \n",
      "dtypes: float64(2), int64(2), object(8)\n",
      "memory usage: 6.2+ MB\n"
     ]
    }
   ],
   "source": [
    "df_init.info()"
   ]
  },
  {
   "cell_type": "markdown",
   "id": "1291c004",
   "metadata": {},
   "source": [
    "**There are 62,721 entries.**  \n",
    "- middleInitial column has nulls but that is expected.  \n",
    "- hireDate has a null. Need to investigate.  \n",
    "- lastName has almost 400 nulls. Need to investigate.**"
   ]
  },
  {
   "cell_type": "code",
   "execution_count": 17,
   "id": "1da0f37c",
   "metadata": {},
   "outputs": [],
   "source": [
    "# Sorting - No longer needed\n",
    "# df_init.sort_values(by = ['agencyName','lastName', 'firstName', 'hireDate', 'fiscalYear'], ascending = [True, True, True, True, False], inplace = True)"
   ]
  },
  {
   "cell_type": "markdown",
   "id": "545907cb",
   "metadata": {},
   "source": [
    "**Investigate the nulls in the lastName column.**"
   ]
  },
  {
   "cell_type": "code",
   "execution_count": 18,
   "id": "4c390038",
   "metadata": {
    "scrolled": true
   },
   "outputs": [
    {
     "data": {
      "text/html": [
       "<div>\n",
       "<style scoped>\n",
       "    .dataframe tbody tr th:only-of-type {\n",
       "        vertical-align: middle;\n",
       "    }\n",
       "\n",
       "    .dataframe tbody tr th {\n",
       "        vertical-align: top;\n",
       "    }\n",
       "\n",
       "    .dataframe thead th {\n",
       "        text-align: right;\n",
       "    }\n",
       "</style>\n",
       "<table border=\"1\" class=\"dataframe\">\n",
       "  <thead>\n",
       "    <tr style=\"text-align: right;\">\n",
       "      <th></th>\n",
       "      <th>lastName</th>\n",
       "      <th>middleInitial</th>\n",
       "      <th>firstName</th>\n",
       "      <th>jobClass</th>\n",
       "      <th>agencyName</th>\n",
       "      <th>agencyID</th>\n",
       "      <th>annualSalary</th>\n",
       "      <th>grossPay</th>\n",
       "      <th>hireDate</th>\n",
       "      <th>fiscalYear</th>\n",
       "      <th>ObjectId</th>\n",
       "      <th>date</th>\n",
       "    </tr>\n",
       "    <tr>\n",
       "      <th>date</th>\n",
       "      <th></th>\n",
       "      <th></th>\n",
       "      <th></th>\n",
       "      <th></th>\n",
       "      <th></th>\n",
       "      <th></th>\n",
       "      <th></th>\n",
       "      <th></th>\n",
       "      <th></th>\n",
       "      <th></th>\n",
       "      <th></th>\n",
       "      <th></th>\n",
       "    </tr>\n",
       "  </thead>\n",
       "  <tbody>\n",
       "    <tr>\n",
       "      <th>2019-01-01</th>\n",
       "      <td>NaN</td>\n",
       "      <td>1</td>\n",
       "      <td>BPD</td>\n",
       "      <td>BPD 1</td>\n",
       "      <td>Police Department</td>\n",
       "      <td>A99</td>\n",
       "      <td>90833.0</td>\n",
       "      <td>115187.12</td>\n",
       "      <td>1999-02-11</td>\n",
       "      <td>2019</td>\n",
       "      <td>43679</td>\n",
       "      <td>20190101</td>\n",
       "    </tr>\n",
       "    <tr>\n",
       "      <th>2019-01-01</th>\n",
       "      <td>NaN</td>\n",
       "      <td>0</td>\n",
       "      <td>BPD</td>\n",
       "      <td>BPD 10</td>\n",
       "      <td>Police Department</td>\n",
       "      <td>A99</td>\n",
       "      <td>87151.0</td>\n",
       "      <td>120470.46</td>\n",
       "      <td>2001-01-03</td>\n",
       "      <td>2019</td>\n",
       "      <td>43680</td>\n",
       "      <td>20190101</td>\n",
       "    </tr>\n",
       "    <tr>\n",
       "      <th>2019-01-01</th>\n",
       "      <td>NaN</td>\n",
       "      <td>1</td>\n",
       "      <td>BPD</td>\n",
       "      <td>BPD 11</td>\n",
       "      <td>Police Department</td>\n",
       "      <td>A99</td>\n",
       "      <td>91008.0</td>\n",
       "      <td>112361.89</td>\n",
       "      <td>1996-08-01</td>\n",
       "      <td>2019</td>\n",
       "      <td>43689</td>\n",
       "      <td>20190101</td>\n",
       "    </tr>\n",
       "    <tr>\n",
       "      <th>2019-01-01</th>\n",
       "      <td>NaN</td>\n",
       "      <td>2</td>\n",
       "      <td>BPD</td>\n",
       "      <td>BPD 12</td>\n",
       "      <td>Police Department</td>\n",
       "      <td>A99</td>\n",
       "      <td>80295.0</td>\n",
       "      <td>97460.98</td>\n",
       "      <td>2007-02-20</td>\n",
       "      <td>2019</td>\n",
       "      <td>43695</td>\n",
       "      <td>20190101</td>\n",
       "    </tr>\n",
       "    <tr>\n",
       "      <th>2019-01-01</th>\n",
       "      <td>NaN</td>\n",
       "      <td>2</td>\n",
       "      <td>BPD</td>\n",
       "      <td>BPD 2</td>\n",
       "      <td>Police Department</td>\n",
       "      <td>A99</td>\n",
       "      <td>90833.0</td>\n",
       "      <td>109199.22</td>\n",
       "      <td>1999-01-25</td>\n",
       "      <td>2019</td>\n",
       "      <td>43701</td>\n",
       "      <td>20190101</td>\n",
       "    </tr>\n",
       "    <tr>\n",
       "      <th>...</th>\n",
       "      <td>...</td>\n",
       "      <td>...</td>\n",
       "      <td>...</td>\n",
       "      <td>...</td>\n",
       "      <td>...</td>\n",
       "      <td>...</td>\n",
       "      <td>...</td>\n",
       "      <td>...</td>\n",
       "      <td>...</td>\n",
       "      <td>...</td>\n",
       "      <td>...</td>\n",
       "      <td>...</td>\n",
       "    </tr>\n",
       "    <tr>\n",
       "      <th>2011-01-01</th>\n",
       "      <td>NaN</td>\n",
       "      <td>9</td>\n",
       "      <td>BPD</td>\n",
       "      <td>BPD</td>\n",
       "      <td>Police Department</td>\n",
       "      <td>A99</td>\n",
       "      <td>65499.0</td>\n",
       "      <td>64127.83</td>\n",
       "      <td>1970-01-01</td>\n",
       "      <td>2011</td>\n",
       "      <td>154183</td>\n",
       "      <td>20110101</td>\n",
       "    </tr>\n",
       "    <tr>\n",
       "      <th>2011-01-01</th>\n",
       "      <td>NaN</td>\n",
       "      <td>0</td>\n",
       "      <td>BPD</td>\n",
       "      <td>BPD</td>\n",
       "      <td>Police Department</td>\n",
       "      <td>A99</td>\n",
       "      <td>63384.0</td>\n",
       "      <td>66187.45</td>\n",
       "      <td>1970-01-01</td>\n",
       "      <td>2011</td>\n",
       "      <td>154184</td>\n",
       "      <td>20110101</td>\n",
       "    </tr>\n",
       "    <tr>\n",
       "      <th>2011-01-01</th>\n",
       "      <td>NaN</td>\n",
       "      <td>1</td>\n",
       "      <td>BPD</td>\n",
       "      <td>BPD</td>\n",
       "      <td>Police Department</td>\n",
       "      <td>A99</td>\n",
       "      <td>61102.0</td>\n",
       "      <td>71989.51</td>\n",
       "      <td>1970-01-01</td>\n",
       "      <td>2011</td>\n",
       "      <td>154185</td>\n",
       "      <td>20110101</td>\n",
       "    </tr>\n",
       "    <tr>\n",
       "      <th>2011-01-01</th>\n",
       "      <td>NaN</td>\n",
       "      <td>2</td>\n",
       "      <td>BPD</td>\n",
       "      <td>BPD</td>\n",
       "      <td>Police Department</td>\n",
       "      <td>A99</td>\n",
       "      <td>59958.0</td>\n",
       "      <td>53235.59</td>\n",
       "      <td>1970-01-01</td>\n",
       "      <td>2011</td>\n",
       "      <td>154186</td>\n",
       "      <td>20110101</td>\n",
       "    </tr>\n",
       "    <tr>\n",
       "      <th>2011-01-01</th>\n",
       "      <td>NaN</td>\n",
       "      <td>3</td>\n",
       "      <td>BPD</td>\n",
       "      <td>BPD</td>\n",
       "      <td>Police Department</td>\n",
       "      <td>A99</td>\n",
       "      <td>68523.0</td>\n",
       "      <td>95152.89</td>\n",
       "      <td>1970-01-01</td>\n",
       "      <td>2011</td>\n",
       "      <td>154187</td>\n",
       "      <td>20110101</td>\n",
       "    </tr>\n",
       "  </tbody>\n",
       "</table>\n",
       "<p>394 rows × 12 columns</p>\n",
       "</div>"
      ],
      "text/plain": [
       "           lastName middleInitial firstName jobClass         agencyName  \\\n",
       "date                                                                      \n",
       "2019-01-01      NaN             1       BPD    BPD 1  Police Department   \n",
       "2019-01-01      NaN             0       BPD   BPD 10  Police Department   \n",
       "2019-01-01      NaN             1       BPD   BPD 11  Police Department   \n",
       "2019-01-01      NaN             2       BPD   BPD 12  Police Department   \n",
       "2019-01-01      NaN             2       BPD    BPD 2  Police Department   \n",
       "...             ...           ...       ...      ...                ...   \n",
       "2011-01-01      NaN             9       BPD      BPD  Police Department   \n",
       "2011-01-01      NaN             0       BPD      BPD  Police Department   \n",
       "2011-01-01      NaN             1       BPD      BPD  Police Department   \n",
       "2011-01-01      NaN             2       BPD      BPD  Police Department   \n",
       "2011-01-01      NaN             3       BPD      BPD  Police Department   \n",
       "\n",
       "           agencyID  annualSalary   grossPay    hireDate  fiscalYear  \\\n",
       "date                                                                   \n",
       "2019-01-01      A99       90833.0  115187.12  1999-02-11        2019   \n",
       "2019-01-01      A99       87151.0  120470.46  2001-01-03        2019   \n",
       "2019-01-01      A99       91008.0  112361.89  1996-08-01        2019   \n",
       "2019-01-01      A99       80295.0   97460.98  2007-02-20        2019   \n",
       "2019-01-01      A99       90833.0  109199.22  1999-01-25        2019   \n",
       "...             ...           ...        ...         ...         ...   \n",
       "2011-01-01      A99       65499.0   64127.83  1970-01-01        2011   \n",
       "2011-01-01      A99       63384.0   66187.45  1970-01-01        2011   \n",
       "2011-01-01      A99       61102.0   71989.51  1970-01-01        2011   \n",
       "2011-01-01      A99       59958.0   53235.59  1970-01-01        2011   \n",
       "2011-01-01      A99       68523.0   95152.89  1970-01-01        2011   \n",
       "\n",
       "            ObjectId      date  \n",
       "date                            \n",
       "2019-01-01     43679  20190101  \n",
       "2019-01-01     43680  20190101  \n",
       "2019-01-01     43689  20190101  \n",
       "2019-01-01     43695  20190101  \n",
       "2019-01-01     43701  20190101  \n",
       "...              ...       ...  \n",
       "2011-01-01    154183  20110101  \n",
       "2011-01-01    154184  20110101  \n",
       "2011-01-01    154185  20110101  \n",
       "2011-01-01    154186  20110101  \n",
       "2011-01-01    154187  20110101  \n",
       "\n",
       "[394 rows x 12 columns]"
      ]
     },
     "execution_count": 18,
     "metadata": {},
     "output_type": "execute_result"
    }
   ],
   "source": [
    "df_init.loc[df_init['lastName'].isna()]"
   ]
  },
  {
   "cell_type": "markdown",
   "id": "479e65a6",
   "metadata": {},
   "source": [
    "**All the nulls are in lastName are for employees in the Police Department. The firstName entry is \"BPD\" for all of them. They have different hire dates and so imply that they are real persons but their identity is not being revealed.  \n",
    "To make the data easier to work with, we have entered the value \"BPD\" into all the null lastName entries.**"
   ]
  },
  {
   "cell_type": "code",
   "execution_count": 19,
   "id": "6978ccfe",
   "metadata": {},
   "outputs": [],
   "source": [
    "# df_init['lastName'].fillna('BPD', inplace = True)\n",
    "df_init.loc[df_init['lastName'].isna(), 'lastName'] = 'BPD'"
   ]
  },
  {
   "cell_type": "code",
   "execution_count": 20,
   "id": "04277a66",
   "metadata": {},
   "outputs": [
    {
     "data": {
      "text/html": [
       "<div>\n",
       "<style scoped>\n",
       "    .dataframe tbody tr th:only-of-type {\n",
       "        vertical-align: middle;\n",
       "    }\n",
       "\n",
       "    .dataframe tbody tr th {\n",
       "        vertical-align: top;\n",
       "    }\n",
       "\n",
       "    .dataframe thead th {\n",
       "        text-align: right;\n",
       "    }\n",
       "</style>\n",
       "<table border=\"1\" class=\"dataframe\">\n",
       "  <thead>\n",
       "    <tr style=\"text-align: right;\">\n",
       "      <th></th>\n",
       "      <th>lastName</th>\n",
       "      <th>middleInitial</th>\n",
       "      <th>firstName</th>\n",
       "      <th>jobClass</th>\n",
       "      <th>agencyName</th>\n",
       "      <th>agencyID</th>\n",
       "      <th>annualSalary</th>\n",
       "      <th>grossPay</th>\n",
       "      <th>hireDate</th>\n",
       "      <th>fiscalYear</th>\n",
       "      <th>ObjectId</th>\n",
       "      <th>date</th>\n",
       "    </tr>\n",
       "    <tr>\n",
       "      <th>date</th>\n",
       "      <th></th>\n",
       "      <th></th>\n",
       "      <th></th>\n",
       "      <th></th>\n",
       "      <th></th>\n",
       "      <th></th>\n",
       "      <th></th>\n",
       "      <th></th>\n",
       "      <th></th>\n",
       "      <th></th>\n",
       "      <th></th>\n",
       "      <th></th>\n",
       "    </tr>\n",
       "  </thead>\n",
       "  <tbody>\n",
       "    <tr>\n",
       "      <th>2019-01-01</th>\n",
       "      <td>BPD</td>\n",
       "      <td>1</td>\n",
       "      <td>BPD</td>\n",
       "      <td>BPD 1</td>\n",
       "      <td>Police Department</td>\n",
       "      <td>A99</td>\n",
       "      <td>90833.0</td>\n",
       "      <td>115187.12</td>\n",
       "      <td>1999-02-11</td>\n",
       "      <td>2019</td>\n",
       "      <td>43679</td>\n",
       "      <td>20190101</td>\n",
       "    </tr>\n",
       "    <tr>\n",
       "      <th>2019-01-01</th>\n",
       "      <td>BPD</td>\n",
       "      <td>0</td>\n",
       "      <td>BPD</td>\n",
       "      <td>BPD 10</td>\n",
       "      <td>Police Department</td>\n",
       "      <td>A99</td>\n",
       "      <td>87151.0</td>\n",
       "      <td>120470.46</td>\n",
       "      <td>2001-01-03</td>\n",
       "      <td>2019</td>\n",
       "      <td>43680</td>\n",
       "      <td>20190101</td>\n",
       "    </tr>\n",
       "    <tr>\n",
       "      <th>2019-01-01</th>\n",
       "      <td>BPD</td>\n",
       "      <td>1</td>\n",
       "      <td>BPD</td>\n",
       "      <td>BPD 11</td>\n",
       "      <td>Police Department</td>\n",
       "      <td>A99</td>\n",
       "      <td>91008.0</td>\n",
       "      <td>112361.89</td>\n",
       "      <td>1996-08-01</td>\n",
       "      <td>2019</td>\n",
       "      <td>43689</td>\n",
       "      <td>20190101</td>\n",
       "    </tr>\n",
       "    <tr>\n",
       "      <th>2019-01-01</th>\n",
       "      <td>BPD</td>\n",
       "      <td>2</td>\n",
       "      <td>BPD</td>\n",
       "      <td>BPD 12</td>\n",
       "      <td>Police Department</td>\n",
       "      <td>A99</td>\n",
       "      <td>80295.0</td>\n",
       "      <td>97460.98</td>\n",
       "      <td>2007-02-20</td>\n",
       "      <td>2019</td>\n",
       "      <td>43695</td>\n",
       "      <td>20190101</td>\n",
       "    </tr>\n",
       "    <tr>\n",
       "      <th>2019-01-01</th>\n",
       "      <td>BPD</td>\n",
       "      <td>2</td>\n",
       "      <td>BPD</td>\n",
       "      <td>BPD 2</td>\n",
       "      <td>Police Department</td>\n",
       "      <td>A99</td>\n",
       "      <td>90833.0</td>\n",
       "      <td>109199.22</td>\n",
       "      <td>1999-01-25</td>\n",
       "      <td>2019</td>\n",
       "      <td>43701</td>\n",
       "      <td>20190101</td>\n",
       "    </tr>\n",
       "    <tr>\n",
       "      <th>...</th>\n",
       "      <td>...</td>\n",
       "      <td>...</td>\n",
       "      <td>...</td>\n",
       "      <td>...</td>\n",
       "      <td>...</td>\n",
       "      <td>...</td>\n",
       "      <td>...</td>\n",
       "      <td>...</td>\n",
       "      <td>...</td>\n",
       "      <td>...</td>\n",
       "      <td>...</td>\n",
       "      <td>...</td>\n",
       "    </tr>\n",
       "    <tr>\n",
       "      <th>2011-01-01</th>\n",
       "      <td>BPD</td>\n",
       "      <td>9</td>\n",
       "      <td>BPD</td>\n",
       "      <td>BPD</td>\n",
       "      <td>Police Department</td>\n",
       "      <td>A99</td>\n",
       "      <td>65499.0</td>\n",
       "      <td>64127.83</td>\n",
       "      <td>1970-01-01</td>\n",
       "      <td>2011</td>\n",
       "      <td>154183</td>\n",
       "      <td>20110101</td>\n",
       "    </tr>\n",
       "    <tr>\n",
       "      <th>2011-01-01</th>\n",
       "      <td>BPD</td>\n",
       "      <td>0</td>\n",
       "      <td>BPD</td>\n",
       "      <td>BPD</td>\n",
       "      <td>Police Department</td>\n",
       "      <td>A99</td>\n",
       "      <td>63384.0</td>\n",
       "      <td>66187.45</td>\n",
       "      <td>1970-01-01</td>\n",
       "      <td>2011</td>\n",
       "      <td>154184</td>\n",
       "      <td>20110101</td>\n",
       "    </tr>\n",
       "    <tr>\n",
       "      <th>2011-01-01</th>\n",
       "      <td>BPD</td>\n",
       "      <td>1</td>\n",
       "      <td>BPD</td>\n",
       "      <td>BPD</td>\n",
       "      <td>Police Department</td>\n",
       "      <td>A99</td>\n",
       "      <td>61102.0</td>\n",
       "      <td>71989.51</td>\n",
       "      <td>1970-01-01</td>\n",
       "      <td>2011</td>\n",
       "      <td>154185</td>\n",
       "      <td>20110101</td>\n",
       "    </tr>\n",
       "    <tr>\n",
       "      <th>2011-01-01</th>\n",
       "      <td>BPD</td>\n",
       "      <td>2</td>\n",
       "      <td>BPD</td>\n",
       "      <td>BPD</td>\n",
       "      <td>Police Department</td>\n",
       "      <td>A99</td>\n",
       "      <td>59958.0</td>\n",
       "      <td>53235.59</td>\n",
       "      <td>1970-01-01</td>\n",
       "      <td>2011</td>\n",
       "      <td>154186</td>\n",
       "      <td>20110101</td>\n",
       "    </tr>\n",
       "    <tr>\n",
       "      <th>2011-01-01</th>\n",
       "      <td>BPD</td>\n",
       "      <td>3</td>\n",
       "      <td>BPD</td>\n",
       "      <td>BPD</td>\n",
       "      <td>Police Department</td>\n",
       "      <td>A99</td>\n",
       "      <td>68523.0</td>\n",
       "      <td>95152.89</td>\n",
       "      <td>1970-01-01</td>\n",
       "      <td>2011</td>\n",
       "      <td>154187</td>\n",
       "      <td>20110101</td>\n",
       "    </tr>\n",
       "  </tbody>\n",
       "</table>\n",
       "<p>394 rows × 12 columns</p>\n",
       "</div>"
      ],
      "text/plain": [
       "           lastName middleInitial firstName jobClass         agencyName  \\\n",
       "date                                                                      \n",
       "2019-01-01      BPD             1       BPD    BPD 1  Police Department   \n",
       "2019-01-01      BPD             0       BPD   BPD 10  Police Department   \n",
       "2019-01-01      BPD             1       BPD   BPD 11  Police Department   \n",
       "2019-01-01      BPD             2       BPD   BPD 12  Police Department   \n",
       "2019-01-01      BPD             2       BPD    BPD 2  Police Department   \n",
       "...             ...           ...       ...      ...                ...   \n",
       "2011-01-01      BPD             9       BPD      BPD  Police Department   \n",
       "2011-01-01      BPD             0       BPD      BPD  Police Department   \n",
       "2011-01-01      BPD             1       BPD      BPD  Police Department   \n",
       "2011-01-01      BPD             2       BPD      BPD  Police Department   \n",
       "2011-01-01      BPD             3       BPD      BPD  Police Department   \n",
       "\n",
       "           agencyID  annualSalary   grossPay    hireDate  fiscalYear  \\\n",
       "date                                                                   \n",
       "2019-01-01      A99       90833.0  115187.12  1999-02-11        2019   \n",
       "2019-01-01      A99       87151.0  120470.46  2001-01-03        2019   \n",
       "2019-01-01      A99       91008.0  112361.89  1996-08-01        2019   \n",
       "2019-01-01      A99       80295.0   97460.98  2007-02-20        2019   \n",
       "2019-01-01      A99       90833.0  109199.22  1999-01-25        2019   \n",
       "...             ...           ...        ...         ...         ...   \n",
       "2011-01-01      A99       65499.0   64127.83  1970-01-01        2011   \n",
       "2011-01-01      A99       63384.0   66187.45  1970-01-01        2011   \n",
       "2011-01-01      A99       61102.0   71989.51  1970-01-01        2011   \n",
       "2011-01-01      A99       59958.0   53235.59  1970-01-01        2011   \n",
       "2011-01-01      A99       68523.0   95152.89  1970-01-01        2011   \n",
       "\n",
       "            ObjectId      date  \n",
       "date                            \n",
       "2019-01-01     43679  20190101  \n",
       "2019-01-01     43680  20190101  \n",
       "2019-01-01     43689  20190101  \n",
       "2019-01-01     43695  20190101  \n",
       "2019-01-01     43701  20190101  \n",
       "...              ...       ...  \n",
       "2011-01-01    154183  20110101  \n",
       "2011-01-01    154184  20110101  \n",
       "2011-01-01    154185  20110101  \n",
       "2011-01-01    154186  20110101  \n",
       "2011-01-01    154187  20110101  \n",
       "\n",
       "[394 rows x 12 columns]"
      ]
     },
     "execution_count": 20,
     "metadata": {},
     "output_type": "execute_result"
    }
   ],
   "source": [
    "df_init.loc[df_init['lastName'] == 'BPD']"
   ]
  },
  {
   "cell_type": "code",
   "execution_count": 21,
   "id": "46ecb069",
   "metadata": {},
   "outputs": [
    {
     "name": "stdout",
     "output_type": "stream",
     "text": [
      "<class 'pandas.core.frame.DataFrame'>\n",
      "DatetimeIndex: 62721 entries, 2021-01-01 to 2011-01-01\n",
      "Data columns (total 12 columns):\n",
      " #   Column         Non-Null Count  Dtype  \n",
      "---  ------         --------------  -----  \n",
      " 0   lastName       62721 non-null  object \n",
      " 1   middleInitial  53430 non-null  object \n",
      " 2   firstName      62721 non-null  object \n",
      " 3   jobClass       62623 non-null  object \n",
      " 4   agencyName     62721 non-null  object \n",
      " 5   agencyID       62721 non-null  object \n",
      " 6   annualSalary   62721 non-null  float64\n",
      " 7   grossPay       62721 non-null  float64\n",
      " 8   hireDate       62720 non-null  object \n",
      " 9   fiscalYear     62721 non-null  int64  \n",
      " 10  ObjectId       62721 non-null  int64  \n",
      " 11  date           62721 non-null  object \n",
      "dtypes: float64(2), int64(2), object(8)\n",
      "memory usage: 6.2+ MB\n"
     ]
    }
   ],
   "source": [
    "df_init.info()"
   ]
  },
  {
   "cell_type": "markdown",
   "id": "dfa833dc",
   "metadata": {},
   "source": [
    "**Looking at the single row with null hireDate.**"
   ]
  },
  {
   "cell_type": "code",
   "execution_count": 22,
   "id": "d315abf6",
   "metadata": {},
   "outputs": [
    {
     "data": {
      "text/html": [
       "<div>\n",
       "<style scoped>\n",
       "    .dataframe tbody tr th:only-of-type {\n",
       "        vertical-align: middle;\n",
       "    }\n",
       "\n",
       "    .dataframe tbody tr th {\n",
       "        vertical-align: top;\n",
       "    }\n",
       "\n",
       "    .dataframe thead th {\n",
       "        text-align: right;\n",
       "    }\n",
       "</style>\n",
       "<table border=\"1\" class=\"dataframe\">\n",
       "  <thead>\n",
       "    <tr style=\"text-align: right;\">\n",
       "      <th></th>\n",
       "      <th>lastName</th>\n",
       "      <th>middleInitial</th>\n",
       "      <th>firstName</th>\n",
       "      <th>jobClass</th>\n",
       "      <th>agencyName</th>\n",
       "      <th>agencyID</th>\n",
       "      <th>annualSalary</th>\n",
       "      <th>grossPay</th>\n",
       "      <th>hireDate</th>\n",
       "      <th>fiscalYear</th>\n",
       "      <th>ObjectId</th>\n",
       "      <th>date</th>\n",
       "    </tr>\n",
       "    <tr>\n",
       "      <th>date</th>\n",
       "      <th></th>\n",
       "      <th></th>\n",
       "      <th></th>\n",
       "      <th></th>\n",
       "      <th></th>\n",
       "      <th></th>\n",
       "      <th></th>\n",
       "      <th></th>\n",
       "      <th></th>\n",
       "      <th></th>\n",
       "      <th></th>\n",
       "      <th></th>\n",
       "    </tr>\n",
       "  </thead>\n",
       "  <tbody>\n",
       "    <tr>\n",
       "      <th>2021-01-01</th>\n",
       "      <td>Horsey</td>\n",
       "      <td>C</td>\n",
       "      <td>Rashad</td>\n",
       "      <td>POLICE OFFICER TRAINEE</td>\n",
       "      <td>Police Department</td>\n",
       "      <td>A99</td>\n",
       "      <td>55117.0</td>\n",
       "      <td>20857.58</td>\n",
       "      <td>NaN</td>\n",
       "      <td>2021</td>\n",
       "      <td>6098</td>\n",
       "      <td>20210101</td>\n",
       "    </tr>\n",
       "  </tbody>\n",
       "</table>\n",
       "</div>"
      ],
      "text/plain": [
       "           lastName middleInitial firstName                jobClass  \\\n",
       "date                                                                  \n",
       "2021-01-01   Horsey             C   Rashad   POLICE OFFICER TRAINEE   \n",
       "\n",
       "                   agencyName agencyID  annualSalary  grossPay hireDate  \\\n",
       "date                                                                      \n",
       "2021-01-01  Police Department      A99       55117.0  20857.58      NaN   \n",
       "\n",
       "            fiscalYear  ObjectId      date  \n",
       "date                                        \n",
       "2021-01-01        2021      6098  20210101  "
      ]
     },
     "execution_count": 22,
     "metadata": {},
     "output_type": "execute_result"
    }
   ],
   "source": [
    "df_init.loc[df_init['hireDate'].isna()]"
   ]
  },
  {
   "cell_type": "markdown",
   "id": "ba2d0d69",
   "metadata": {},
   "source": [
    "**The lack of a hireDate value appears to be a mistake or ovesight. The rest of the data is relevant and the hireDate is not being used in this current analysis. So, this row was allowed to remain.**"
   ]
  },
  {
   "cell_type": "code",
   "execution_count": 23,
   "id": "f000f1be",
   "metadata": {},
   "outputs": [],
   "source": [
    "# In initial analysis, we only looked at the previous 8 years but ultimately decided to look at all 11 years.\n",
    "# df_recent_yrs = df_init.loc[df_init['fiscalYear'] >= 2014]"
   ]
  },
  {
   "cell_type": "markdown",
   "id": "fd188cb7",
   "metadata": {},
   "source": [
    "### Create Unique \"Employee ID\"\n",
    "**In viewing the data, it is clear that the combination of first name, last name and hire date idenitifies a unique employee. Generating a unique employee ID allows us to analyze how many employees they are and investigate the history of each individual or potentially job categories/titles - some of this will be carried out later.**"
   ]
  },
  {
   "cell_type": "code",
   "execution_count": 24,
   "id": "b2ed2a5f",
   "metadata": {},
   "outputs": [],
   "source": [
    "df_init['empId'] = df_init['lastName'] + ',' + df_init['firstName'] + ' ' + df_init['hireDate']"
   ]
  },
  {
   "cell_type": "code",
   "execution_count": 25,
   "id": "76eae2f0",
   "metadata": {},
   "outputs": [
    {
     "data": {
      "text/html": [
       "<div>\n",
       "<style scoped>\n",
       "    .dataframe tbody tr th:only-of-type {\n",
       "        vertical-align: middle;\n",
       "    }\n",
       "\n",
       "    .dataframe tbody tr th {\n",
       "        vertical-align: top;\n",
       "    }\n",
       "\n",
       "    .dataframe thead th {\n",
       "        text-align: right;\n",
       "    }\n",
       "</style>\n",
       "<table border=\"1\" class=\"dataframe\">\n",
       "  <thead>\n",
       "    <tr style=\"text-align: right;\">\n",
       "      <th></th>\n",
       "      <th>lastName</th>\n",
       "      <th>middleInitial</th>\n",
       "      <th>firstName</th>\n",
       "      <th>jobClass</th>\n",
       "      <th>agencyName</th>\n",
       "      <th>agencyID</th>\n",
       "      <th>annualSalary</th>\n",
       "      <th>grossPay</th>\n",
       "      <th>hireDate</th>\n",
       "      <th>fiscalYear</th>\n",
       "      <th>ObjectId</th>\n",
       "      <th>date</th>\n",
       "      <th>empId</th>\n",
       "    </tr>\n",
       "    <tr>\n",
       "      <th>date</th>\n",
       "      <th></th>\n",
       "      <th></th>\n",
       "      <th></th>\n",
       "      <th></th>\n",
       "      <th></th>\n",
       "      <th></th>\n",
       "      <th></th>\n",
       "      <th></th>\n",
       "      <th></th>\n",
       "      <th></th>\n",
       "      <th></th>\n",
       "      <th></th>\n",
       "      <th></th>\n",
       "    </tr>\n",
       "  </thead>\n",
       "  <tbody>\n",
       "    <tr>\n",
       "      <th>2021-01-01</th>\n",
       "      <td>Abadir</td>\n",
       "      <td>O</td>\n",
       "      <td>Adam</td>\n",
       "      <td>OPERATIONS OFFICER II</td>\n",
       "      <td>Health Department</td>\n",
       "      <td>A65</td>\n",
       "      <td>74299.0</td>\n",
       "      <td>85450.35</td>\n",
       "      <td>2016-12-12</td>\n",
       "      <td>2021</td>\n",
       "      <td>4</td>\n",
       "      <td>20210101</td>\n",
       "      <td>Abadir,Adam 2016-12-12</td>\n",
       "    </tr>\n",
       "    <tr>\n",
       "      <th>2021-01-01</th>\n",
       "      <td>Abaku</td>\n",
       "      <td>O</td>\n",
       "      <td>Aigbolosimuan</td>\n",
       "      <td>POLICE OFFICER EID</td>\n",
       "      <td>Police Department</td>\n",
       "      <td>A99</td>\n",
       "      <td>68226.0</td>\n",
       "      <td>102775.97</td>\n",
       "      <td>2018-04-17</td>\n",
       "      <td>2021</td>\n",
       "      <td>5</td>\n",
       "      <td>20210101</td>\n",
       "      <td>Abaku,Aigbolosimuan 2018-04-17</td>\n",
       "    </tr>\n",
       "    <tr>\n",
       "      <th>2021-01-01</th>\n",
       "      <td>Abdal-Rahim</td>\n",
       "      <td>A</td>\n",
       "      <td>Naim</td>\n",
       "      <td>FIRE PUMP OPERATOR SUPPRESSION</td>\n",
       "      <td>Fire Department</td>\n",
       "      <td>A64</td>\n",
       "      <td>72007.0</td>\n",
       "      <td>103168.86</td>\n",
       "      <td>2011-03-30</td>\n",
       "      <td>2021</td>\n",
       "      <td>8</td>\n",
       "      <td>20210101</td>\n",
       "      <td>Abdal-Rahim,Naim 2011-03-30</td>\n",
       "    </tr>\n",
       "    <tr>\n",
       "      <th>2021-01-01</th>\n",
       "      <td>Abdi</td>\n",
       "      <td>W</td>\n",
       "      <td>Ezekiel</td>\n",
       "      <td>POLICE SERGEANT</td>\n",
       "      <td>Police Department</td>\n",
       "      <td>A99</td>\n",
       "      <td>97058.0</td>\n",
       "      <td>143215.40</td>\n",
       "      <td>2007-06-14</td>\n",
       "      <td>2021</td>\n",
       "      <td>9</td>\n",
       "      <td>20210101</td>\n",
       "      <td>Abdi,Ezekiel 2007-06-14</td>\n",
       "    </tr>\n",
       "    <tr>\n",
       "      <th>2021-01-01</th>\n",
       "      <td>Abdrabou</td>\n",
       "      <td>NaN</td>\n",
       "      <td>Fouad</td>\n",
       "      <td>POLICE OFFICER</td>\n",
       "      <td>Police Department</td>\n",
       "      <td>A99</td>\n",
       "      <td>55117.0</td>\n",
       "      <td>41074.56</td>\n",
       "      <td>2020-08-25</td>\n",
       "      <td>2021</td>\n",
       "      <td>10</td>\n",
       "      <td>20210101</td>\n",
       "      <td>Abdrabou,Fouad 2020-08-25</td>\n",
       "    </tr>\n",
       "  </tbody>\n",
       "</table>\n",
       "</div>"
      ],
      "text/plain": [
       "               lastName middleInitial      firstName  \\\n",
       "date                                                   \n",
       "2021-01-01       Abadir             O           Adam   \n",
       "2021-01-01        Abaku             O  Aigbolosimuan   \n",
       "2021-01-01  Abdal-Rahim             A           Naim   \n",
       "2021-01-01         Abdi             W        Ezekiel   \n",
       "2021-01-01     Abdrabou           NaN          Fouad   \n",
       "\n",
       "                                  jobClass         agencyName agencyID  \\\n",
       "date                                                                     \n",
       "2021-01-01           OPERATIONS OFFICER II  Health Department      A65   \n",
       "2021-01-01              POLICE OFFICER EID  Police Department      A99   \n",
       "2021-01-01  FIRE PUMP OPERATOR SUPPRESSION    Fire Department      A64   \n",
       "2021-01-01                 POLICE SERGEANT  Police Department      A99   \n",
       "2021-01-01                  POLICE OFFICER  Police Department      A99   \n",
       "\n",
       "            annualSalary   grossPay    hireDate  fiscalYear  ObjectId  \\\n",
       "date                                                                    \n",
       "2021-01-01       74299.0   85450.35  2016-12-12        2021         4   \n",
       "2021-01-01       68226.0  102775.97  2018-04-17        2021         5   \n",
       "2021-01-01       72007.0  103168.86  2011-03-30        2021         8   \n",
       "2021-01-01       97058.0  143215.40  2007-06-14        2021         9   \n",
       "2021-01-01       55117.0   41074.56  2020-08-25        2021        10   \n",
       "\n",
       "                date                           empId  \n",
       "date                                                  \n",
       "2021-01-01  20210101          Abadir,Adam 2016-12-12  \n",
       "2021-01-01  20210101  Abaku,Aigbolosimuan 2018-04-17  \n",
       "2021-01-01  20210101     Abdal-Rahim,Naim 2011-03-30  \n",
       "2021-01-01  20210101         Abdi,Ezekiel 2007-06-14  \n",
       "2021-01-01  20210101       Abdrabou,Fouad 2020-08-25  "
      ]
     },
     "execution_count": 25,
     "metadata": {},
     "output_type": "execute_result"
    }
   ],
   "source": [
    "df_init.head()"
   ]
  },
  {
   "cell_type": "code",
   "execution_count": 26,
   "id": "431e86db",
   "metadata": {},
   "outputs": [
    {
     "data": {
      "text/plain": [
       "Police Department    34707\n",
       "Fire Department      18374\n",
       "Health Department     9640\n",
       "Name: agencyName, dtype: int64"
      ]
     },
     "execution_count": 26,
     "metadata": {},
     "output_type": "execute_result"
    }
   ],
   "source": [
    "df_init['agencyName'].value_counts()"
   ]
  },
  {
   "cell_type": "code",
   "execution_count": 27,
   "id": "5f66f955",
   "metadata": {},
   "outputs": [
    {
     "data": {
      "text/plain": [
       "62721"
      ]
     },
     "execution_count": 27,
     "metadata": {},
     "output_type": "execute_result"
    }
   ],
   "source": [
    "df_init['agencyName'].value_counts().sum()"
   ]
  },
  {
   "cell_type": "markdown",
   "id": "8a92962b",
   "metadata": {},
   "source": [
    "**The above 2 cells show us that there are 62,721 records and how many are in each department. However, there is a record for each employee for each year worked.**"
   ]
  },
  {
   "cell_type": "code",
   "execution_count": 28,
   "id": "62d483de",
   "metadata": {},
   "outputs": [
    {
     "name": "stdout",
     "output_type": "stream",
     "text": [
      "# Baltimore City Employee in Data Set: 11392\n"
     ]
    }
   ],
   "source": [
    "print('# Baltimore City Employee in Data Set:', len(df_init['empId'].unique()))"
   ]
  },
  {
   "cell_type": "markdown",
   "id": "3f93963c",
   "metadata": {},
   "source": [
    "**So, the number of unique employees over the 11 year period of the data set is 11,392.**"
   ]
  },
  {
   "cell_type": "markdown",
   "id": "4bb9d258",
   "metadata": {},
   "source": [
    "### Remove unnecessary columns"
   ]
  },
  {
   "cell_type": "code",
   "execution_count": 29,
   "id": "92123e4d",
   "metadata": {},
   "outputs": [],
   "source": [
    "df_init = df_init.drop(['lastName', 'middleInitial', 'firstName', 'agencyID', 'grossPay', 'hireDate','ObjectId', 'date'], axis=1)"
   ]
  },
  {
   "cell_type": "code",
   "execution_count": 30,
   "id": "55cd42c3",
   "metadata": {},
   "outputs": [
    {
     "name": "stdout",
     "output_type": "stream",
     "text": [
      "<class 'pandas.core.frame.DataFrame'>\n",
      "DatetimeIndex: 62721 entries, 2021-01-01 to 2011-01-01\n",
      "Data columns (total 5 columns):\n",
      " #   Column        Non-Null Count  Dtype  \n",
      "---  ------        --------------  -----  \n",
      " 0   jobClass      62623 non-null  object \n",
      " 1   agencyName    62721 non-null  object \n",
      " 2   annualSalary  62721 non-null  float64\n",
      " 3   fiscalYear    62721 non-null  int64  \n",
      " 4   empId         62720 non-null  object \n",
      "dtypes: float64(1), int64(1), object(3)\n",
      "memory usage: 2.9+ MB\n"
     ]
    }
   ],
   "source": [
    "df_init.info()"
   ]
  },
  {
   "cell_type": "code",
   "execution_count": 31,
   "id": "ed265f58",
   "metadata": {},
   "outputs": [
    {
     "data": {
      "text/html": [
       "<div>\n",
       "<style scoped>\n",
       "    .dataframe tbody tr th:only-of-type {\n",
       "        vertical-align: middle;\n",
       "    }\n",
       "\n",
       "    .dataframe tbody tr th {\n",
       "        vertical-align: top;\n",
       "    }\n",
       "\n",
       "    .dataframe thead th {\n",
       "        text-align: right;\n",
       "    }\n",
       "</style>\n",
       "<table border=\"1\" class=\"dataframe\">\n",
       "  <thead>\n",
       "    <tr style=\"text-align: right;\">\n",
       "      <th></th>\n",
       "      <th>jobClass</th>\n",
       "      <th>agencyName</th>\n",
       "      <th>annualSalary</th>\n",
       "      <th>fiscalYear</th>\n",
       "      <th>empId</th>\n",
       "    </tr>\n",
       "    <tr>\n",
       "      <th>date</th>\n",
       "      <th></th>\n",
       "      <th></th>\n",
       "      <th></th>\n",
       "      <th></th>\n",
       "      <th></th>\n",
       "    </tr>\n",
       "  </thead>\n",
       "  <tbody>\n",
       "    <tr>\n",
       "      <th>2021-01-01</th>\n",
       "      <td>OPERATIONS OFFICER II</td>\n",
       "      <td>Health Department</td>\n",
       "      <td>74299.0</td>\n",
       "      <td>2021</td>\n",
       "      <td>Abadir,Adam 2016-12-12</td>\n",
       "    </tr>\n",
       "    <tr>\n",
       "      <th>2021-01-01</th>\n",
       "      <td>POLICE OFFICER EID</td>\n",
       "      <td>Police Department</td>\n",
       "      <td>68226.0</td>\n",
       "      <td>2021</td>\n",
       "      <td>Abaku,Aigbolosimuan 2018-04-17</td>\n",
       "    </tr>\n",
       "    <tr>\n",
       "      <th>2021-01-01</th>\n",
       "      <td>FIRE PUMP OPERATOR SUPPRESSION</td>\n",
       "      <td>Fire Department</td>\n",
       "      <td>72007.0</td>\n",
       "      <td>2021</td>\n",
       "      <td>Abdal-Rahim,Naim 2011-03-30</td>\n",
       "    </tr>\n",
       "    <tr>\n",
       "      <th>2021-01-01</th>\n",
       "      <td>POLICE SERGEANT</td>\n",
       "      <td>Police Department</td>\n",
       "      <td>97058.0</td>\n",
       "      <td>2021</td>\n",
       "      <td>Abdi,Ezekiel 2007-06-14</td>\n",
       "    </tr>\n",
       "    <tr>\n",
       "      <th>2021-01-01</th>\n",
       "      <td>POLICE OFFICER</td>\n",
       "      <td>Police Department</td>\n",
       "      <td>55117.0</td>\n",
       "      <td>2021</td>\n",
       "      <td>Abdrabou,Fouad 2020-08-25</td>\n",
       "    </tr>\n",
       "  </tbody>\n",
       "</table>\n",
       "</div>"
      ],
      "text/plain": [
       "                                  jobClass         agencyName  annualSalary  \\\n",
       "date                                                                          \n",
       "2021-01-01           OPERATIONS OFFICER II  Health Department       74299.0   \n",
       "2021-01-01              POLICE OFFICER EID  Police Department       68226.0   \n",
       "2021-01-01  FIRE PUMP OPERATOR SUPPRESSION    Fire Department       72007.0   \n",
       "2021-01-01                 POLICE SERGEANT  Police Department       97058.0   \n",
       "2021-01-01                  POLICE OFFICER  Police Department       55117.0   \n",
       "\n",
       "            fiscalYear                           empId  \n",
       "date                                                    \n",
       "2021-01-01        2021          Abadir,Adam 2016-12-12  \n",
       "2021-01-01        2021  Abaku,Aigbolosimuan 2018-04-17  \n",
       "2021-01-01        2021     Abdal-Rahim,Naim 2011-03-30  \n",
       "2021-01-01        2021         Abdi,Ezekiel 2007-06-14  \n",
       "2021-01-01        2021       Abdrabou,Fouad 2020-08-25  "
      ]
     },
     "execution_count": 31,
     "metadata": {},
     "output_type": "execute_result"
    }
   ],
   "source": [
    "df_init.head()"
   ]
  },
  {
   "cell_type": "markdown",
   "id": "9c426ec8",
   "metadata": {},
   "source": [
    "### Create separate dataframes for Police, Fire and Health Departments"
   ]
  },
  {
   "cell_type": "code",
   "execution_count": 32,
   "id": "0d62adfc",
   "metadata": {},
   "outputs": [
    {
     "name": "stdout",
     "output_type": "stream",
     "text": [
      "# Police Employees in Data Set: 6127\n",
      "# Fire Employees in Data Set: 2791\n",
      "# Health Employees in Data Set: 2554\n"
     ]
    }
   ],
   "source": [
    "df_police = df_init.loc[df_init['agencyName'] == 'Police Department']\n",
    "df_fire = df_init.loc[df_init['agencyName'] == 'Fire Department']\n",
    "df_health = df_init.loc[df_init['agencyName'] == 'Health Department']\n",
    "\n",
    "print('# Police Employees in Data Set:', len(df_police['empId'].unique()))\n",
    "print('# Fire Employees in Data Set:', len(df_fire['empId'].unique()))\n",
    "print('# Health Employees in Data Set:', len(df_health['empId'].unique()))"
   ]
  },
  {
   "cell_type": "markdown",
   "id": "2d5db905",
   "metadata": {},
   "source": [
    "### Calculate Payroll Sums in Each Department"
   ]
  },
  {
   "cell_type": "code",
   "execution_count": 33,
   "id": "9157eb53",
   "metadata": {},
   "outputs": [],
   "source": [
    "label_format = '{:,.0f}'          # This label format will be used in subsequent plots."
   ]
  },
  {
   "cell_type": "code",
   "execution_count": 34,
   "id": "f4327ea8",
   "metadata": {},
   "outputs": [
    {
     "data": {
      "image/png": "[encoded data removed]",
      "text/plain": [
       "<Figure size 576x360 with 1 Axes>"
      ]
     },
     "metadata": {
      "needs_background": "light"
     },
     "output_type": "display_data"
    }
   ],
   "source": [
    "# Line Chart\n",
    "payroll_police=[]\n",
    "payroll_fire=[]\n",
    "payroll_health=[]\n",
    "payroll_years=[]\n",
    "\n",
    "for year in range(2011,2022):\n",
    "    payroll_police.append(df_police.loc[df_police['fiscalYear'] == year]['annualSalary'].sum())\n",
    "    payroll_fire.append(df_fire.loc[df_fire['fiscalYear'] == year]['annualSalary'].sum())\n",
    "    payroll_health.append(df_health.loc[df_health['fiscalYear'] == year]['annualSalary'].sum())\n",
    "    payroll_years.append(year)\n",
    "\n",
    "df_pay_sum = pd.DataFrame(list(zip(payroll_years, payroll_police, payroll_fire, payroll_health)))\n",
    "df_pay_sum.columns = ['fiscalYear', 'Police_Dept', 'Fire_Dept', 'Health_Dept']\n",
    "df_pay_sum.head(20)\n",
    "\n",
    "df_pay_sum.plot(x=\"fiscalYear\", y=[\"Police_Dept\", \"Fire_Dept\", \"Health_Dept\"], kind=\"line\", figsize=(8, 5))\n",
    "ax=plt.gca()\n",
    "ticks_loc = ax.get_yticks().tolist()\n",
    "ax.yaxis.set_major_locator(mticker.FixedLocator(ticks_loc))\n",
    "ax.set_yticklabels([label_format.format(x) for x in ticks_loc])\n",
    "ax.set_title('Department Payroll Totals')\n",
    "plt.savefig('./images/Department_Payroll_Totals(Line).png',bbox_inches='tight');"
   ]
  },
  {
   "cell_type": "code",
   "execution_count": 35,
   "id": "f8c87b3c",
   "metadata": {},
   "outputs": [
    {
     "data": {
      "image/png": "[encoded data removed]",
      "text/plain": [
       "<Figure size 576x360 with 1 Axes>"
      ]
     },
     "metadata": {
      "needs_background": "light"
     },
     "output_type": "display_data"
    }
   ],
   "source": [
    "# Bar Chart\n",
    "df_pay_sum.plot(x=\"fiscalYear\", y=[\"Police_Dept\", \"Fire_Dept\", \"Health_Dept\"], kind=\"bar\", rot=0, figsize=(8, 5))\n",
    "ax=plt.gca()\n",
    "ticks_loc = ax.get_yticks().tolist()\n",
    "\n",
    "ax.yaxis.set_major_locator(mticker.FixedLocator(ticks_loc))\n",
    "ax.set_yticklabels([label_format.format(x) for x in ticks_loc])\n",
    "ax.set_title('Department Payroll Totals')\n",
    "plt.savefig('./images/Department_Payroll_Totals(Bar).png',bbox_inches='tight');"
   ]
  },
  {
   "cell_type": "code",
   "execution_count": 36,
   "id": "29d66db1",
   "metadata": {},
   "outputs": [
    {
     "data": {
      "text/html": [
       "<div>\n",
       "<style scoped>\n",
       "    .dataframe tbody tr th:only-of-type {\n",
       "        vertical-align: middle;\n",
       "    }\n",
       "\n",
       "    .dataframe tbody tr th {\n",
       "        vertical-align: top;\n",
       "    }\n",
       "\n",
       "    .dataframe thead th {\n",
       "        text-align: right;\n",
       "    }\n",
       "</style>\n",
       "<table border=\"1\" class=\"dataframe\">\n",
       "  <thead>\n",
       "    <tr style=\"text-align: right;\">\n",
       "      <th></th>\n",
       "      <th>fiscalYear</th>\n",
       "      <th>Police_Dept</th>\n",
       "      <th>Fire_Dept</th>\n",
       "      <th>Health_Dept</th>\n",
       "    </tr>\n",
       "  </thead>\n",
       "  <tbody>\n",
       "    <tr>\n",
       "      <th>0</th>\n",
       "      <td>2011</td>\n",
       "      <td>2.008713e+08</td>\n",
       "      <td>1.009713e+08</td>\n",
       "      <td>37423219.00</td>\n",
       "    </tr>\n",
       "    <tr>\n",
       "      <th>1</th>\n",
       "      <td>2012</td>\n",
       "      <td>2.082891e+08</td>\n",
       "      <td>1.035812e+08</td>\n",
       "      <td>35206610.00</td>\n",
       "    </tr>\n",
       "    <tr>\n",
       "      <th>2</th>\n",
       "      <td>2013</td>\n",
       "      <td>1.979702e+08</td>\n",
       "      <td>9.983872e+07</td>\n",
       "      <td>34961857.00</td>\n",
       "    </tr>\n",
       "    <tr>\n",
       "      <th>3</th>\n",
       "      <td>2014</td>\n",
       "      <td>1.976886e+08</td>\n",
       "      <td>1.120108e+08</td>\n",
       "      <td>34305637.00</td>\n",
       "    </tr>\n",
       "    <tr>\n",
       "      <th>4</th>\n",
       "      <td>2015</td>\n",
       "      <td>2.087338e+08</td>\n",
       "      <td>1.126165e+08</td>\n",
       "      <td>36294814.00</td>\n",
       "    </tr>\n",
       "    <tr>\n",
       "      <th>5</th>\n",
       "      <td>2016</td>\n",
       "      <td>2.155936e+08</td>\n",
       "      <td>1.118375e+08</td>\n",
       "      <td>37012032.00</td>\n",
       "    </tr>\n",
       "    <tr>\n",
       "      <th>6</th>\n",
       "      <td>2017</td>\n",
       "      <td>2.101303e+08</td>\n",
       "      <td>1.163164e+08</td>\n",
       "      <td>34486200.00</td>\n",
       "    </tr>\n",
       "    <tr>\n",
       "      <th>7</th>\n",
       "      <td>2018</td>\n",
       "      <td>2.213949e+08</td>\n",
       "      <td>1.205536e+08</td>\n",
       "      <td>40824800.00</td>\n",
       "    </tr>\n",
       "    <tr>\n",
       "      <th>8</th>\n",
       "      <td>2019</td>\n",
       "      <td>2.311541e+08</td>\n",
       "      <td>1.219408e+08</td>\n",
       "      <td>38077508.50</td>\n",
       "    </tr>\n",
       "    <tr>\n",
       "      <th>9</th>\n",
       "      <td>2020</td>\n",
       "      <td>2.502885e+08</td>\n",
       "      <td>1.295694e+08</td>\n",
       "      <td>46438958.00</td>\n",
       "    </tr>\n",
       "    <tr>\n",
       "      <th>10</th>\n",
       "      <td>2021</td>\n",
       "      <td>2.515990e+08</td>\n",
       "      <td>1.257620e+08</td>\n",
       "      <td>49567469.03</td>\n",
       "    </tr>\n",
       "  </tbody>\n",
       "</table>\n",
       "</div>"
      ],
      "text/plain": [
       "    fiscalYear   Police_Dept     Fire_Dept  Health_Dept\n",
       "0         2011  2.008713e+08  1.009713e+08  37423219.00\n",
       "1         2012  2.082891e+08  1.035812e+08  35206610.00\n",
       "2         2013  1.979702e+08  9.983872e+07  34961857.00\n",
       "3         2014  1.976886e+08  1.120108e+08  34305637.00\n",
       "4         2015  2.087338e+08  1.126165e+08  36294814.00\n",
       "5         2016  2.155936e+08  1.118375e+08  37012032.00\n",
       "6         2017  2.101303e+08  1.163164e+08  34486200.00\n",
       "7         2018  2.213949e+08  1.205536e+08  40824800.00\n",
       "8         2019  2.311541e+08  1.219408e+08  38077508.50\n",
       "9         2020  2.502885e+08  1.295694e+08  46438958.00\n",
       "10        2021  2.515990e+08  1.257620e+08  49567469.03"
      ]
     },
     "execution_count": 36,
     "metadata": {},
     "output_type": "execute_result"
    }
   ],
   "source": [
    "df_pay_sum"
   ]
  },
  {
   "cell_type": "markdown",
   "id": "251d87dc",
   "metadata": {},
   "source": [
    "### Calculate Mean of Salaries in Each Department"
   ]
  },
  {
   "cell_type": "code",
   "execution_count": 37,
   "id": "139331b3",
   "metadata": {},
   "outputs": [],
   "source": [
    "pay_mean_police=[]\n",
    "pay_mean_fire=[]\n",
    "pay_mean_health=[]\n",
    "pay_mean_years=[]\n",
    "\n",
    "for year in range(2011,2022):\n",
    "    pay_mean_police.append(df_police.loc[df_police['fiscalYear'] == year]['annualSalary'].mean())\n",
    "    pay_mean_fire.append(df_fire.loc[df_fire['fiscalYear'] == year]['annualSalary'].mean())\n",
    "    pay_mean_health.append(df_health.loc[df_health['fiscalYear'] == year]['annualSalary'].mean())\n",
    "    pay_mean_years.append(year)\n",
    "\n",
    "df_pay_mean = pd.DataFrame(list(zip(pay_mean_years, pay_mean_police, pay_mean_fire, pay_mean_health)))\n",
    "df_pay_mean.columns = ['fiscalYear', 'Police_Dept', 'Fire_Dept', 'Health_Dept']\n",
    "\n",
    "df_pay_mean['date'] = df_pay_mean['fiscalYear'] * 10000 + 101\n",
    "df_pay_mean['date'] = df_pay_mean['date'].astype(str)\n",
    "df_pay_mean = df_pay_mean.set_index(pd.to_datetime((df_pay_mean['date']), yearfirst=True))\n"
   ]
  },
  {
   "cell_type": "code",
   "execution_count": 38,
   "id": "47662c79",
   "metadata": {},
   "outputs": [
    {
     "data": {
      "text/html": [
       "<div>\n",
       "<style scoped>\n",
       "    .dataframe tbody tr th:only-of-type {\n",
       "        vertical-align: middle;\n",
       "    }\n",
       "\n",
       "    .dataframe tbody tr th {\n",
       "        vertical-align: top;\n",
       "    }\n",
       "\n",
       "    .dataframe thead th {\n",
       "        text-align: right;\n",
       "    }\n",
       "</style>\n",
       "<table border=\"1\" class=\"dataframe\">\n",
       "  <thead>\n",
       "    <tr style=\"text-align: right;\">\n",
       "      <th></th>\n",
       "      <th>fiscalYear</th>\n",
       "      <th>Police_Dept</th>\n",
       "      <th>Fire_Dept</th>\n",
       "      <th>Health_Dept</th>\n",
       "    </tr>\n",
       "    <tr>\n",
       "      <th>date</th>\n",
       "      <th></th>\n",
       "      <th></th>\n",
       "      <th></th>\n",
       "      <th></th>\n",
       "    </tr>\n",
       "  </thead>\n",
       "  <tbody>\n",
       "    <tr>\n",
       "      <th>2011-01-01</th>\n",
       "      <td>2011</td>\n",
       "      <td>58597.219186</td>\n",
       "      <td>58500.200463</td>\n",
       "      <td>40024.833155</td>\n",
       "    </tr>\n",
       "    <tr>\n",
       "      <th>2012-01-01</th>\n",
       "      <td>2012</td>\n",
       "      <td>59939.296748</td>\n",
       "      <td>59873.554913</td>\n",
       "      <td>41468.327444</td>\n",
       "    </tr>\n",
       "    <tr>\n",
       "      <th>2013-01-01</th>\n",
       "      <td>2013</td>\n",
       "      <td>60467.387660</td>\n",
       "      <td>60877.271341</td>\n",
       "      <td>39819.882688</td>\n",
       "    </tr>\n",
       "    <tr>\n",
       "      <th>2014-01-01</th>\n",
       "      <td>2014</td>\n",
       "      <td>61719.831720</td>\n",
       "      <td>71072.849055</td>\n",
       "      <td>41332.092771</td>\n",
       "    </tr>\n",
       "    <tr>\n",
       "      <th>2015-01-01</th>\n",
       "      <td>2015</td>\n",
       "      <td>67507.705692</td>\n",
       "      <td>69818.044637</td>\n",
       "      <td>42649.605170</td>\n",
       "    </tr>\n",
       "    <tr>\n",
       "      <th>2016-01-01</th>\n",
       "      <td>2016</td>\n",
       "      <td>71649.581921</td>\n",
       "      <td>69811.160424</td>\n",
       "      <td>41680.216216</td>\n",
       "    </tr>\n",
       "    <tr>\n",
       "      <th>2017-01-01</th>\n",
       "      <td>2017</td>\n",
       "      <td>72508.720842</td>\n",
       "      <td>70537.532444</td>\n",
       "      <td>46228.150134</td>\n",
       "    </tr>\n",
       "    <tr>\n",
       "      <th>2018-01-01</th>\n",
       "      <td>2018</td>\n",
       "      <td>73921.511519</td>\n",
       "      <td>71460.327208</td>\n",
       "      <td>47141.801386</td>\n",
       "    </tr>\n",
       "    <tr>\n",
       "      <th>2019-01-01</th>\n",
       "      <td>2019</td>\n",
       "      <td>78597.113567</td>\n",
       "      <td>72670.302741</td>\n",
       "      <td>48138.443110</td>\n",
       "    </tr>\n",
       "    <tr>\n",
       "      <th>2020-01-01</th>\n",
       "      <td>2020</td>\n",
       "      <td>78460.349530</td>\n",
       "      <td>72914.677546</td>\n",
       "      <td>49614.271368</td>\n",
       "    </tr>\n",
       "    <tr>\n",
       "      <th>2021-01-01</th>\n",
       "      <td>2021</td>\n",
       "      <td>78575.592342</td>\n",
       "      <td>74152.141356</td>\n",
       "      <td>46324.737411</td>\n",
       "    </tr>\n",
       "  </tbody>\n",
       "</table>\n",
       "</div>"
      ],
      "text/plain": [
       "            fiscalYear   Police_Dept     Fire_Dept   Health_Dept\n",
       "date                                                            \n",
       "2011-01-01        2011  58597.219186  58500.200463  40024.833155\n",
       "2012-01-01        2012  59939.296748  59873.554913  41468.327444\n",
       "2013-01-01        2013  60467.387660  60877.271341  39819.882688\n",
       "2014-01-01        2014  61719.831720  71072.849055  41332.092771\n",
       "2015-01-01        2015  67507.705692  69818.044637  42649.605170\n",
       "2016-01-01        2016  71649.581921  69811.160424  41680.216216\n",
       "2017-01-01        2017  72508.720842  70537.532444  46228.150134\n",
       "2018-01-01        2018  73921.511519  71460.327208  47141.801386\n",
       "2019-01-01        2019  78597.113567  72670.302741  48138.443110\n",
       "2020-01-01        2020  78460.349530  72914.677546  49614.271368\n",
       "2021-01-01        2021  78575.592342  74152.141356  46324.737411"
      ]
     },
     "execution_count": 38,
     "metadata": {},
     "output_type": "execute_result"
    }
   ],
   "source": [
    "df_pay_mean = df_pay_mean.drop(['date'], axis=1)\n",
    "df_pay_mean.head(20)     # Confirm that Index has been set to date"
   ]
  },
  {
   "cell_type": "code",
   "execution_count": 39,
   "id": "0bb172d7",
   "metadata": {},
   "outputs": [
    {
     "name": "stdout",
     "output_type": "stream",
     "text": [
      "<class 'pandas.core.frame.DataFrame'>\n",
      "DatetimeIndex: 11 entries, 2011-01-01 to 2021-01-01\n",
      "Data columns (total 4 columns):\n",
      " #   Column       Non-Null Count  Dtype  \n",
      "---  ------       --------------  -----  \n",
      " 0   fiscalYear   11 non-null     int64  \n",
      " 1   Police_Dept  11 non-null     float64\n",
      " 2   Fire_Dept    11 non-null     float64\n",
      " 3   Health_Dept  11 non-null     float64\n",
      "dtypes: float64(3), int64(1)\n",
      "memory usage: 440.0 bytes\n"
     ]
    }
   ],
   "source": [
    "df_pay_mean.info()"
   ]
  },
  {
   "cell_type": "code",
   "execution_count": 40,
   "id": "bcc38441",
   "metadata": {},
   "outputs": [],
   "source": [
    "# df_pay_mean = df_payroll.set_index(pd.to_datetime((df_pay_mean['date']), yearfirst=True))"
   ]
  },
  {
   "cell_type": "code",
   "execution_count": 41,
   "id": "d1056a45",
   "metadata": {},
   "outputs": [
    {
     "data": {
      "image/png": "[encoded data removed]",
      "text/plain": [
       "<Figure size 1008x432 with 1 Axes>"
      ]
     },
     "metadata": {
      "needs_background": "light"
     },
     "output_type": "display_data"
    }
   ],
   "source": [
    "df_pay_mean.plot(x=\"fiscalYear\", y=[\"Police_Dept\", \"Fire_Dept\", \"Health_Dept\"], kind=\"bar\", rot=0, figsize=(14, 6))\n",
    "ax=plt.gca()\n",
    "ticks_loc = ax.get_yticks().tolist()\n",
    "ax.yaxis.set_major_locator(mticker.FixedLocator(ticks_loc))\n",
    "ax.set_yticklabels([label_format.format(x) for x in ticks_loc])\n",
    "ax.set_title('Department Average Salary')\n",
    "plt.savefig('./images/Department_Average_Salary(Bar).png',bbox_inches='tight');"
   ]
  },
  {
   "cell_type": "code",
   "execution_count": 42,
   "id": "89e978eb",
   "metadata": {},
   "outputs": [
    {
     "data": {
      "image/png": "[encoded data removed]",
      "text/plain": [
       "<Figure size 1008x432 with 1 Axes>"
      ]
     },
     "metadata": {
      "needs_background": "light"
     },
     "output_type": "display_data"
    }
   ],
   "source": [
    "df_pay_mean.plot(x=\"fiscalYear\", y=[\"Police_Dept\", \"Fire_Dept\",\"Health_Dept\"], kind=\"line\", figsize=(14, 6), color=('blue','red','green'))\n",
    "ax=plt.gca()\n",
    "ticks_loc = ax.get_yticks().tolist()\n",
    "ax.yaxis.set_major_locator(mticker.FixedLocator(ticks_loc))\n",
    "ax.set_yticklabels([label_format.format(x) for x in ticks_loc]);\n",
    "ax.set_title('Department Average Salary')\n",
    "plt.savefig('./images/Department_Average_Salary(Line).png',bbox_inches='tight');\n"
   ]
  },
  {
   "cell_type": "markdown",
   "id": "16fd4518",
   "metadata": {},
   "source": [
    "## Train Test Split"
   ]
  },
  {
   "cell_type": "code",
   "execution_count": 43,
   "id": "2679f58c",
   "metadata": {},
   "outputs": [
    {
     "data": {
      "text/plain": [
       "9"
      ]
     },
     "execution_count": 43,
     "metadata": {},
     "output_type": "execute_result"
    }
   ],
   "source": [
    "cutoff = round(df_pay_mean.shape[0]*0.8)\n",
    "cutoff"
   ]
  },
  {
   "cell_type": "markdown",
   "id": "793b2abe",
   "metadata": {},
   "source": [
    "**Remember that there are only 11 years or 11 points of time. 9 will be allocated to the training set and 2 to the test set.**  \n",
    "**So 2011-2019 is the train set and 2020-2021 is the test set.**"
   ]
  },
  {
   "cell_type": "code",
   "execution_count": 44,
   "id": "49ecb72e",
   "metadata": {},
   "outputs": [
    {
     "data": {
      "image/png": "[encoded data removed]",
      "text/plain": [
       "<Figure size 864x576 with 1 Axes>"
      ]
     },
     "metadata": {
      "needs_background": "light"
     },
     "output_type": "display_data"
    }
   ],
   "source": [
    "train_police = df_pay_mean[:cutoff]['Police_Dept']\n",
    "test_police = df_pay_mean[cutoff:]['Police_Dept']\n",
    "train_fire = df_pay_mean[:cutoff]['Fire_Dept']\n",
    "test_fire = df_pay_mean[cutoff:]['Fire_Dept']\n",
    "train_health = df_pay_mean[:cutoff]['Health_Dept']\n",
    "test_health = df_pay_mean[cutoff:]['Health_Dept']\n",
    "train_years = df_pay_mean.index[:cutoff]\n",
    "\n",
    "fig, ax = plt.subplots(figsize=(12, 8))\n",
    "# train_police.plot(x=\"fiscalYear\", y=[\"Police_Dept\", \"Fire_Dept\",\"Health_Dept\"], kind=\"line\", figsize=(14, 6), color=('blue','red','green'))\n",
    "\n",
    "ax.plot(train_police, label='train police', color='blue')\n",
    "ax.plot(test_police, label='test police', color='darkblue')\n",
    "ax.plot(train_fire, label='train fire', color='red')\n",
    "ax.plot(test_fire, label='test fire', color='darkred')\n",
    "ax.plot(train_health, label='train health', color='limegreen')\n",
    "ax.plot(test_health, label='test health', color='darkgreen')\n",
    "\n",
    "ticks_loc = ax.get_yticks().tolist()\n",
    "ax.yaxis.set_major_locator(mticker.FixedLocator(ticks_loc))\n",
    "ax.set_yticklabels([label_format.format(x) for x in ticks_loc]);\n",
    "\n",
    "ax.set_title('Train-Test Split')\n",
    "plt.legend()\n",
    "plt.savefig('./images/Train-Test_Split.png',bbox_inches='tight');\n"
   ]
  },
  {
   "cell_type": "code",
   "execution_count": 45,
   "id": "aed5d2e0",
   "metadata": {},
   "outputs": [
    {
     "data": {
      "text/plain": [
       "date\n",
       "2011-01-01    58597.219186\n",
       "2012-01-01    59939.296748\n",
       "2013-01-01    60467.387660\n",
       "2014-01-01    61719.831720\n",
       "2015-01-01    67507.705692\n",
       "2016-01-01    71649.581921\n",
       "2017-01-01    72508.720842\n",
       "2018-01-01    73921.511519\n",
       "2019-01-01    78597.113567\n",
       "Name: Police_Dept, dtype: float64"
      ]
     },
     "execution_count": 45,
     "metadata": {},
     "output_type": "execute_result"
    }
   ],
   "source": [
    "train_police.head(20)"
   ]
  },
  {
   "cell_type": "code",
   "execution_count": 46,
   "id": "97116735",
   "metadata": {},
   "outputs": [
    {
     "data": {
      "text/plain": [
       "date\n",
       "2020-01-01    78460.349530\n",
       "2021-01-01    78575.592342\n",
       "Name: Police_Dept, dtype: float64"
      ]
     },
     "execution_count": 46,
     "metadata": {},
     "output_type": "execute_result"
    }
   ],
   "source": [
    "test_police.head()"
   ]
  },
  {
   "cell_type": "markdown",
   "id": "108e6d2d",
   "metadata": {},
   "source": [
    "### Create Function to Run Dickey Fuller Test and Return Results"
   ]
  },
  {
   "cell_type": "code",
   "execution_count": 47,
   "id": "9046776a",
   "metadata": {
    "scrolled": true
   },
   "outputs": [],
   "source": [
    "def Dickey_Fuller_Test(ts):\n",
    "    \n",
    "    dftest = adfuller(ts)        # Dickey-Fuller Test\n",
    "    # Extract and display test results in a user friendly manner\n",
    "    dfoutput = pd.Series(\n",
    "                    dftest[0:4], \n",
    "                    index=['Test Statistic','p-value','#Lags Used','Number of Observations Used']\n",
    "    )\n",
    "\n",
    "    for key,value in dftest[4].items():\n",
    "        dfoutput['Critical Value (%s)'%key] = value\n",
    "\n",
    "    return dfoutput\n"
   ]
  },
  {
   "cell_type": "markdown",
   "id": "426645e8",
   "metadata": {},
   "source": [
    "### Run Dickey Fuller Test on Original Data\n",
    "**Visually the data for all 3 departments has a clear upward trend and therefore is not stationary but lets run the Dickey Fuller Test to confirm.**"
   ]
  },
  {
   "cell_type": "code",
   "execution_count": 48,
   "id": "353acaaa",
   "metadata": {},
   "outputs": [
    {
     "name": "stdout",
     "output_type": "stream",
     "text": [
      "Police Series Stats: \n",
      " Test Statistic                 0.622893\n",
      "p-value                        0.988167\n",
      "#Lags Used                     2.000000\n",
      "Number of Observations Used    6.000000\n",
      "Critical Value (1%)           -5.354256\n",
      "Critical Value (5%)           -3.646238\n",
      "Critical Value (10%)          -2.901198\n",
      "dtype: float64 \n",
      "\n",
      "Fire Series Stats: \n",
      " Test Statistic                -1.391236\n",
      "p-value                        0.586470\n",
      "#Lags Used                     0.000000\n",
      "Number of Observations Used    8.000000\n",
      "Critical Value (1%)           -4.665186\n",
      "Critical Value (5%)           -3.367187\n",
      "Critical Value (10%)          -2.802961\n",
      "dtype: float64 \n",
      "\n",
      "Health Series Stats: \n",
      " Test Statistic                 3.040018\n",
      "p-value                        1.000000\n",
      "#Lags Used                     2.000000\n",
      "Number of Observations Used    6.000000\n",
      "Critical Value (1%)           -5.354256\n",
      "Critical Value (5%)           -3.646238\n",
      "Critical Value (10%)          -2.901198\n",
      "dtype: float64 \n",
      "\n"
     ]
    }
   ],
   "source": [
    "print(\"Police Series Stats:\", '\\n', Dickey_Fuller_Test(train_police), '\\n')\n",
    "print(\"Fire Series Stats:\", '\\n', Dickey_Fuller_Test(train_fire), '\\n')\n",
    "print(\"Health Series Stats:\", '\\n', Dickey_Fuller_Test(train_health), '\\n')"
   ]
  },
  {
   "cell_type": "markdown",
   "id": "0ce56050",
   "metadata": {},
   "source": [
    "**Dickey Fuller Test is a Statistical test for testing stationarity.  \n",
    "The null hypothesis (𝐻0) is that the time series is not stationary.  \n",
    "p-value is much greater than alpha of 0.05 for police, fire, and health departments.  \n",
    "Therefore, data is not stationary.**\n"
   ]
  },
  {
   "cell_type": "markdown",
   "id": "2a21b5f7",
   "metadata": {},
   "source": [
    "### Baseline - Naive Model with Shift of 1\n",
    "**We will start with an assumption that the best predictor for a value in this time series is the value immediately preceding it in the series.**"
   ]
  },
  {
   "cell_type": "code",
   "execution_count": 81,
   "id": "28d846f8",
   "metadata": {},
   "outputs": [],
   "source": [
    "train_police_pred_naive = train_police.shift(1)\n",
    "train_fire_pred_naive = train_fire.shift(1)\n",
    "train_health_pred_naive = train_health.shift(1)\n",
    "\n",
    "# print(train_police, naive_police)"
   ]
  },
  {
   "cell_type": "code",
   "execution_count": 82,
   "id": "26d590d9",
   "metadata": {},
   "outputs": [
    {
     "data": {
      "image/png": "[encoded data removed]",
      "text/plain": [
       "<Figure size 432x288 with 1 Axes>"
      ]
     },
     "metadata": {
      "needs_background": "light"
     },
     "output_type": "display_data"
    }
   ],
   "source": [
    "fig, ax = plt.subplots()\n",
    "\n",
    "train_police[0:].plot(ax=ax, label='police original', color='blue')\n",
    "train_police_pred_naive[0:].plot(ax=ax, label='police shifted', color='darkblue')\n",
    "train_fire[0:].plot(ax=ax, label='fire original', color='red')\n",
    "train_fire_pred_naive[0:].plot(ax=ax, label='fire shifted', color='darkred')\n",
    "train_health[0:].plot(ax=ax, label='health original', color='limegreen')\n",
    "train_health_pred_naive[0:].plot(ax=ax, label='health shifted', color='darkgreen')\n",
    "\n",
    "ax.set_title('Naive Model with Shift of 1')\n",
    "ax.legend()\n",
    "plt.savefig('./images/Baseline_Naive_Model_with_Shift_of_1.png',bbox_inches='tight');"
   ]
  },
  {
   "cell_type": "markdown",
   "id": "8fa5beb8",
   "metadata": {},
   "source": [
    "**For a baseline to compare our later models, lets calculate our RMSE for the naive model.**"
   ]
  },
  {
   "cell_type": "code",
   "execution_count": 87,
   "id": "d159b435",
   "metadata": {},
   "outputs": [
    {
     "name": "stdout",
     "output_type": "stream",
     "text": [
      "Train Data Root Mean Squared Errors:\n",
      "Police: $3,140\n",
      "Fire: $3,729\n",
      "Health: $2,009\n"
     ]
    }
   ],
   "source": [
    "RMSE_train_police = np.sqrt(mean_squared_error(train_police[1:], train_police_pred_naive.dropna()))\n",
    "RMSE_train_fire = np.sqrt(mean_squared_error(train_fire[1:], train_fire_pred_naive.dropna()))\n",
    "RMSE_train_health = np.sqrt(mean_squared_error(train_health[1:], train_health_pred_naive.dropna()))\n",
    "\n",
    "print(f'Train Data Root Mean Squared Errors:')\n",
    "print(f'Police: ${RMSE_train_police:,.0f}')\n",
    "print(f'Fire: ${RMSE_train_fire:,.0f}')\n",
    "print(f'Health: ${RMSE_train_health:,.0f}')\n"
   ]
  },
  {
   "cell_type": "code",
   "execution_count": 84,
   "id": "67a635ec",
   "metadata": {},
   "outputs": [
    {
     "name": "stdout",
     "output_type": "stream",
     "text": [
      "Test vs Predicted Salary:\n",
      "Police: 2020 Test $78,460 Predicted $nan\n",
      "Police: 2021 Test $78,576 Predicted $78,460\n",
      "\n",
      "Fire:   2020 Test $72,915 Predicted $nan\n",
      "Fire:   2021 Test $74,152 Predicted $72,915\n",
      "\n",
      "Health: 2020 Test $49,614 Predicted $nan\n",
      "Health: 2021 Test $46,325 Predicted $49,614\n"
     ]
    }
   ],
   "source": [
    "test_police_pred_naive = test_police.shift(1)\n",
    "test_fire_pred_naive = test_fire.shift(1)\n",
    "test_health_pred_naive = test_health.shift(1)\n",
    "\n",
    "print(f'Test vs Predicted Salary:')\n",
    "print(f'Police: {test_police.index[0].strftime(\"%Y\")} Test ${test_police[0]:,.0f} Predicted ${test_police_pred_naive[0]:,.0f}')\n",
    "print(f'Police: {test_police.index[1].strftime(\"%Y\")} Test ${test_police[1]:,.0f} Predicted ${test_police_pred_naive[1]:,.0f}\\n')\n",
    "print(f'Fire:   {test_fire.index[0].strftime(\"%Y\")} Test ${test_fire[0]:,.0f} Predicted ${test_fire_pred_naive[0]:,.0f}')\n",
    "print(f'Fire:   {test_fire.index[1].strftime(\"%Y\")} Test ${test_fire[1]:,.0f} Predicted ${test_fire_pred_naive[1]:,.0f}\\n')\n",
    "print(f'Health: {test_health.index[0].strftime(\"%Y\")} Test ${test_health[0]:,.0f} Predicted ${test_health_pred_naive[0]:,.0f}')\n",
    "print(f'Health: {test_health.index[1].strftime(\"%Y\")} Test ${test_health[1]:,.0f} Predicted ${test_health_pred_naive[1]:,.0f}')\n"
   ]
  },
  {
   "cell_type": "code",
   "execution_count": 85,
   "id": "18418df0",
   "metadata": {},
   "outputs": [
    {
     "name": "stdout",
     "output_type": "stream",
     "text": [
      "Root Mean Squared Errors:\n",
      "Police: $115\n",
      "Fire: $1,237\n",
      "Health: $3,290\n"
     ]
    }
   ],
   "source": [
    "RMSE_test_police = np.sqrt(mean_squared_error(test_police[1:], test_police_pred_naive.dropna()))\n",
    "RMSE_test_fire = np.sqrt(mean_squared_error(test_fire[1:], test_fire_pred_naive.dropna()))\n",
    "RMSE_test_health = np.sqrt(mean_squared_error(test_health[1:], test_health_pred_naive.dropna()))\n",
    "\n",
    "print(f'Root Mean Squared Errors:')\n",
    "print(f'Police: ${RMSE_test_police:,.0f}')\n",
    "print(f'Fire: ${RMSE_test_fire:,.0f}')\n",
    "print(f'Health: ${RMSE_test_health:,.0f}')\n"
   ]
  },
  {
   "cell_type": "markdown",
   "id": "20c25c51",
   "metadata": {},
   "source": [
    "**The naive model is generating these above RSME values for the training data.  \n",
    "Let's see if we can use ARIMA to beat these errors.**"
   ]
  },
  {
   "cell_type": "markdown",
   "id": "a60ddb28",
   "metadata": {},
   "source": [
    "### ARIMA Model"
   ]
  },
  {
   "cell_type": "markdown",
   "id": "67d10bc6",
   "metadata": {},
   "source": [
    "**We have chosen the AutoRegressive Integrated Moving Average (ARIMA) model as the modeling technique to try and beat the Naive Model predictions and errors.  \n",
    "-Differencing may be a method to tackle stationarity.  \n",
    "-Also, if there is autocorrelation, we can try to determine the number of lags by experimenting with different lags or using the PACF/ACF functions to determine this.**  "
   ]
  },
  {
   "cell_type": "markdown",
   "id": "da18fbaf",
   "metadata": {},
   "source": [
    "### PACF (Differenced data) & ACF\n",
    "**Partial Autocorrelation Function (PACF) and Autocorrelation Function (ACF) are useful tools to determine the number of lags or lagged errors to apply in the ARIMA model. PACF is useful for determining the number of lags for AR and ACF is useful for determining the number of lagged errors for MA.**  \n",
    "\n"
   ]
  },
  {
   "cell_type": "code",
   "execution_count": 52,
   "id": "63e9a0e7",
   "metadata": {},
   "outputs": [
    {
     "data": {
      "image/png": "[encoded data removed]",
      "text/plain": [
       "<Figure size 1080x360 with 2 Axes>"
      ]
     },
     "metadata": {
      "needs_background": "light"
     },
     "output_type": "display_data"
    }
   ],
   "source": [
    "fig, ax = plt.subplots(1,2,figsize=(15,5))\n",
    "plot_pacf(train_police.diff().dropna(), title='Partial Autocorrelation - police data', method='ywm', lags=3, ax=ax[0])\n",
    "plot_acf(train_police, title='Autocorrelation - police data', ax=ax[1])\n",
    "plt.savefig('./images/PACF&ACF_Police.png',bbox_inches='tight')\n",
    "plt.show();"
   ]
  },
  {
   "cell_type": "code",
   "execution_count": 53,
   "id": "642cd093",
   "metadata": {},
   "outputs": [
    {
     "data": {
      "image/png": "[encoded data removed]",
      "text/plain": [
       "<Figure size 1080x360 with 2 Axes>"
      ]
     },
     "metadata": {
      "needs_background": "light"
     },
     "output_type": "display_data"
    }
   ],
   "source": [
    "fig, ax = plt.subplots(1,2,figsize=(15,5))\n",
    "plot_pacf(train_fire.diff().dropna(), title='Partial Autocorrelation - fire data', method='ywm', lags=3, ax=ax[0])\n",
    "plot_acf(train_fire, title='Autocorrelation - fire data', ax=ax[1])\n",
    "plt.savefig('./images/PACF&ACF_Fire.png',bbox_inches='tight')\n",
    "plt.show()"
   ]
  },
  {
   "cell_type": "code",
   "execution_count": 54,
   "id": "721c0703",
   "metadata": {},
   "outputs": [
    {
     "data": {
      "image/png": "[encoded data removed]",
      "text/plain": [
       "<Figure size 1080x360 with 2 Axes>"
      ]
     },
     "metadata": {
      "needs_background": "light"
     },
     "output_type": "display_data"
    }
   ],
   "source": [
    "fig, ax = plt.subplots(1,2,figsize=(15,5))\n",
    "plot_pacf(train_health.diff().dropna(), title='Partial Autocorrelation - health data', method='ywm', lags=3, ax=ax[0])\n",
    "plot_acf(train_health, title='Autocorrelation - health data', ax=ax[1])\n",
    "plt.savefig('./images/PACF&ACF_Health.png',bbox_inches='tight')\n",
    "plt.show()"
   ]
  },
  {
   "cell_type": "markdown",
   "id": "6eea597e",
   "metadata": {},
   "source": [
    "**This Baltimore City Salary time series data is appearing to be a \"Random Walk\" model. \n",
    "The PACF and ACF functions are not indicating even 1 lag or lagged error.  \n",
    "Let's try ARIMA with differencing of 1.**"
   ]
  },
  {
   "cell_type": "markdown",
   "id": "239aa505",
   "metadata": {},
   "source": [
    "### ARIMA(0,1,0)  \n",
    "**The (p,d,q) values of (0,1,0) mean that we are not specifying any lags and only taking a difference of 1.  \n",
    "The model will be trained on the train data that was earlier split into train and test.  \n",
    "The model will then be used to predict using the test data.**"
   ]
  },
  {
   "cell_type": "code",
   "execution_count": 55,
   "id": "a156ef16",
   "metadata": {},
   "outputs": [],
   "source": [
    "train_police.index = pd.DatetimeIndex(train_police.index.values, freq=train_police.index.inferred_freq)\n",
    "ar_police_1 = ARIMA(train_police, order=(0,1,0)).fit()\n",
    "\n",
    "train_fire.index = pd.DatetimeIndex(train_fire.index.values, freq=train_fire.index.inferred_freq)\n",
    "ar_fire_1 = ARIMA(train_fire, order=(0,1,0)).fit()\n",
    "\n",
    "train_health.index = pd.DatetimeIndex(train_health.index.values, freq=train_health.index.inferred_freq)\n",
    "ar_health_1 = ARIMA(train_health, order=(0,1,0)).fit()\n",
    "\n",
    "# ar_police_1.summary()"
   ]
  },
  {
   "cell_type": "code",
   "execution_count": 88,
   "id": "a85f24c9",
   "metadata": {},
   "outputs": [
    {
     "data": {
      "text/plain": [
       "2011-01-01    58597.219186\n",
       "2012-01-01    59939.296748\n",
       "2013-01-01    60467.387660\n",
       "2014-01-01    61719.831720\n",
       "2015-01-01    67507.705692\n",
       "2016-01-01    71649.581921\n",
       "2017-01-01    72508.720842\n",
       "2018-01-01    73921.511519\n",
       "2019-01-01    78597.113567\n",
       "Freq: AS-JAN, Name: Police_Dept, dtype: float64"
      ]
     },
     "execution_count": 88,
     "metadata": {},
     "output_type": "execute_result"
    }
   ],
   "source": [
    "train_police"
   ]
  },
  {
   "cell_type": "code",
   "execution_count": 56,
   "id": "55dbbc61",
   "metadata": {},
   "outputs": [
    {
     "name": "stdout",
     "output_type": "stream",
     "text": [
      "Akaike Information Criterion(AIC):\n",
      "Police: 154\n",
      "Fire: 156\n",
      "Health: 146\n"
     ]
    }
   ],
   "source": [
    "print(f'Akaike Information Criterion(AIC):')\n",
    "print(f'Police: {ar_police_1.aic:,.0f}')\n",
    "print(f'Fire: {ar_fire_1.aic:,.0f}')\n",
    "print(f'Health: {ar_health_1.aic:,.0f}')\n"
   ]
  },
  {
   "cell_type": "markdown",
   "id": "f35a14bb",
   "metadata": {},
   "source": [
    "**The lower the AIC score, the better.  \n",
    "We will use these values to compare against subsequent models.**"
   ]
  },
  {
   "cell_type": "code",
   "execution_count": 57,
   "id": "b06e2ea8",
   "metadata": {},
   "outputs": [
    {
     "name": "stdout",
     "output_type": "stream",
     "text": [
      "Root Mean Squared Errors:\n",
      "Police: $19,756\n",
      "Fire: $19,815\n",
      "Health: $13,475\n"
     ]
    }
   ],
   "source": [
    "train_police_pred_1 = ar_police_1.predict(typ='levels')\n",
    "train_fire_pred_1 = ar_fire_1.predict(typ='levels')\n",
    "train_health_pred_1 = ar_health_1.predict(typ='levels')\n",
    "\n",
    "print(f'Root Mean Squared Errors:')\n",
    "print(f'Police: ${np.sqrt(mean_squared_error(train_police, train_police_pred_1)):,.0f}')\n",
    "print(f'Fire: ${np.sqrt(mean_squared_error(train_fire, train_fire_pred_1)):,.0f}')\n",
    "print(f'Health: ${np.sqrt(mean_squared_error(train_health, train_health_pred_1)):,.0f}')\n"
   ]
  },
  {
   "cell_type": "markdown",
   "id": "f65ba11d",
   "metadata": {},
   "source": [
    "**Use model to predict against test data.**"
   ]
  },
  {
   "cell_type": "code",
   "execution_count": 74,
   "id": "701a38f7",
   "metadata": {},
   "outputs": [
    {
     "name": "stdout",
     "output_type": "stream",
     "text": [
      "Test vs Predicted Salary:\n",
      "Police: 2020 Test $78,460 Predicted $78,597\n",
      "Police: 2021 Test $78,576 Predicted $78,597\n",
      "\n",
      "Fire:   2020 Test $72,915 Predicted $72,670\n",
      "Fire:   2021 Test $74,152 Predicted $72,670\n",
      "\n",
      "Health: 2020 Test $49,614 Predicted $48,138\n",
      "Health: 2021 Test $46,325 Predicted $48,138\n"
     ]
    }
   ],
   "source": [
    "test_police_pred_1 = ar_police_1.predict(start=test_police.index[0], end=test_police.index[-1],typ='levels')\n",
    "test_fire_pred_1 = ar_fire_1.predict(start=test_fire.index[0], end=test_fire.index[-1],typ='levels')\n",
    "test_health_pred_1 = ar_health_1.predict(start=test_health.index[0], end=test_health.index[-1],typ='levels')\n",
    "\n",
    "print(f'Test vs Predicted Salary:')\n",
    "print(f'Police: {test_police.index[0].strftime(\"%Y\")} Test ${test_police[0]:,.0f} Predicted ${test_police_pred_1[0]:,.0f}')\n",
    "print(f'Police: {test_police.index[1].strftime(\"%Y\")} Test ${test_police[1]:,.0f} Predicted ${test_police_pred_1[1]:,.0f}\\n')\n",
    "print(f'Fire:   {test_fire.index[0].strftime(\"%Y\")} Test ${test_fire[0]:,.0f} Predicted ${test_fire_pred_1[0]:,.0f}')\n",
    "print(f'Fire:   {test_fire.index[1].strftime(\"%Y\")} Test ${test_fire[1]:,.0f} Predicted ${test_fire_pred_1[1]:,.0f}\\n')\n",
    "print(f'Health: {test_health.index[0].strftime(\"%Y\")} Test ${test_health[0]:,.0f} Predicted ${test_health_pred_1[0]:,.0f}')\n",
    "print(f'Health: {test_health.index[1].strftime(\"%Y\")} Test ${test_health[1]:,.0f} Predicted ${test_health_pred_1[1]:,.0f}')\n"
   ]
  },
  {
   "cell_type": "code",
   "execution_count": 59,
   "id": "3e8f6969",
   "metadata": {},
   "outputs": [
    {
     "data": {
      "image/png": "[encoded data removed]",
      "text/plain": [
       "<Figure size 432x288 with 1 Axes>"
      ]
     },
     "metadata": {
      "needs_background": "light"
     },
     "output_type": "display_data"
    }
   ],
   "source": [
    "fig, ax = plt.subplots()\n",
    "ax.plot(test_police_pred_1, label='predicted police', color='blue')\n",
    "ax.plot(test_police, label='test police', color='darkblue')\n",
    "ax.plot(test_fire_pred_1, label='predicted fire', color='red')\n",
    "ax.plot(test_fire, label='test fire', color='darkred')\n",
    "ax.plot(test_health_pred_1, label='predicted health', color='limegreen')\n",
    "ax.plot(test_health, label='test health', color='green');"
   ]
  },
  {
   "cell_type": "markdown",
   "id": "d452db25",
   "metadata": {},
   "source": [
    "**Because of the limited original data set of 11 years, 9 years were dedicated to training the model and only 2 years were left for test.  \n",
    "The above line chart consists of 2 data points connected to form each line.  \n",
    "The Baltimore data set depicts a \"Random Walk\" scenario. The salary predictions are essentially based on the previous value in time and, hence the small variance between the test and predicted data.**"
   ]
  },
  {
   "cell_type": "markdown",
   "id": "50c7193c",
   "metadata": {},
   "source": [
    "### ARIMA(1,1,0)"
   ]
  },
  {
   "cell_type": "code",
   "execution_count": 60,
   "id": "ecd10322",
   "metadata": {},
   "outputs": [],
   "source": [
    "ar_police_2 = ARIMA(train_police, order=(1,1,0)).fit()\n",
    "ar_fire_2 = ARIMA(train_fire, order=(1,1,0)).fit()\n",
    "ar_health_2 = ARIMA(train_health, order=(1,1,0)).fit()\n",
    "\n",
    "# ar_police_2.summary()"
   ]
  },
  {
   "cell_type": "code",
   "execution_count": 61,
   "id": "693298a8",
   "metadata": {},
   "outputs": [
    {
     "name": "stdout",
     "output_type": "stream",
     "text": [
      "Akaike Information Criterion(AIC):\n",
      "Police: 156\n",
      "Fire: 158\n",
      "Health: 148\n"
     ]
    }
   ],
   "source": [
    "print(f'Akaike Information Criterion(AIC):')\n",
    "print(f'Police: {ar_police_2.aic:,.0f}')\n",
    "print(f'Fire: {ar_fire_2.aic:,.0f}')\n",
    "print(f'Health: {ar_health_2.aic:,.0f}')\n"
   ]
  },
  {
   "cell_type": "markdown",
   "id": "5372c230",
   "metadata": {},
   "source": [
    "**The lower the AIC score, the better.  \n",
    "However, these scores are 2 pts higher than the (0,1,0) model.**"
   ]
  },
  {
   "cell_type": "code",
   "execution_count": 62,
   "id": "161105fa",
   "metadata": {},
   "outputs": [
    {
     "name": "stdout",
     "output_type": "stream",
     "text": [
      "Root Mean Squared Errors:\n",
      "Police: $19,742\n",
      "Fire: $19,809\n",
      "Health: $13,468\n"
     ]
    }
   ],
   "source": [
    "train_police_pred_2 = ar_police_2.predict(typ='levels')\n",
    "train_fire_pred_2 = ar_fire_2.predict(typ='levels')\n",
    "train_health_pred_2 = ar_health_2.predict(typ='levels')\n",
    "\n",
    "print(f'Root Mean Squared Errors:')\n",
    "print(f'Police: ${np.sqrt(mean_squared_error(train_police, train_police_pred_2)):,.0f}')\n",
    "print(f'Fire: ${np.sqrt(mean_squared_error(train_fire, train_fire_pred_2)):,.0f}')\n",
    "print(f'Health: ${np.sqrt(mean_squared_error(train_health, train_health_pred_2)):,.0f}')\n"
   ]
  },
  {
   "cell_type": "markdown",
   "id": "ce555873",
   "metadata": {},
   "source": [
    "**Use model to predict against test data.**"
   ]
  },
  {
   "cell_type": "code",
   "execution_count": 63,
   "id": "a4a3e242",
   "metadata": {},
   "outputs": [
    {
     "name": "stdout",
     "output_type": "stream",
     "text": [
      "Root Mean Squared Errors:\n",
      "Police: 2020 Test $78,460 Predicted $78,798\n",
      "Police: 2021 Test $78,576 Predicted $78,806\n",
      "\n",
      "Fire:   2020 Test $72,915 Predicted $72,700\n",
      "Fire:   2021 Test $74,152 Predicted $72,700\n",
      "\n",
      "Health: 2020 Test $49,614 Predicted $48,178\n",
      "Health: 2021 Test $46,325 Predicted $48,180\n"
     ]
    }
   ],
   "source": [
    "test_police_pred_2 = ar_police_2.predict(start=test_police.index[0], end=test_police.index[-1],typ='levels')\n",
    "test_fire_pred_2 = ar_fire_2.predict(start=test_fire.index[0], end=test_fire.index[-1],typ='levels')\n",
    "test_health_pred_2 = ar_health_2.predict(start=test_health.index[0], end=test_health.index[-1],typ='levels')\n",
    "\n",
    "print(f'Root Mean Squared Errors:')\n",
    "print(f'Police: {test_police.index[0].strftime(\"%Y\")} Test ${test_police[0]:,.0f} Predicted ${test_police_pred_2[0]:,.0f}')\n",
    "print(f'Police: {test_police.index[1].strftime(\"%Y\")} Test ${test_police[1]:,.0f} Predicted ${test_police_pred_2[1]:,.0f}\\n')\n",
    "print(f'Fire:   {test_fire.index[0].strftime(\"%Y\")} Test ${test_fire[0]:,.0f} Predicted ${test_fire_pred_2[0]:,.0f}')\n",
    "print(f'Fire:   {test_fire.index[1].strftime(\"%Y\")} Test ${test_fire[1]:,.0f} Predicted ${test_fire_pred_2[1]:,.0f}\\n')\n",
    "print(f'Health: {test_health.index[0].strftime(\"%Y\")} Test ${test_health[0]:,.0f} Predicted ${test_health_pred_2[0]:,.0f}')\n",
    "print(f'Health: {test_health.index[1].strftime(\"%Y\")} Test ${test_health[1]:,.0f} Predicted ${test_health_pred_2[1]:,.0f}')\n"
   ]
  },
  {
   "cell_type": "code",
   "execution_count": 64,
   "id": "ed28670d",
   "metadata": {},
   "outputs": [
    {
     "data": {
      "image/png": "[encoded data removed]",
      "text/plain": [
       "<Figure size 432x288 with 1 Axes>"
      ]
     },
     "metadata": {
      "needs_background": "light"
     },
     "output_type": "display_data"
    }
   ],
   "source": [
    "fig, ax = plt.subplots()\n",
    "ax.plot(test_police_pred_1, label='predicted police', color='blue')\n",
    "ax.plot(test_police, label='test police', color='darkblue')\n",
    "ax.plot(test_fire_pred_1, label='predicted fire', color='red')\n",
    "ax.plot(test_fire, label='test fire', color='darkred')\n",
    "ax.plot(test_health_pred_1, label='predicted health', color='limegreen')\n",
    "ax.plot(test_health, label='test health', color='green');"
   ]
  },
  {
   "cell_type": "markdown",
   "id": "ba59e721",
   "metadata": {},
   "source": [
    "**The ARIMA(1,1,0) model is worse than the ARIMA(0,1,0).**"
   ]
  },
  {
   "cell_type": "markdown",
   "id": "cec46d5b",
   "metadata": {},
   "source": [
    "## It is clear from this analysis that the Baltimore data is essentially a Random Walk model and cannot be used in its current form to predict salaries into subsequent years."
   ]
  },
  {
   "cell_type": "markdown",
   "id": "09752567",
   "metadata": {},
   "source": [
    "### Code below this point was ultimately not needed for this analysis."
   ]
  },
  {
   "cell_type": "markdown",
   "id": "eac91b36",
   "metadata": {},
   "source": [
    "### Plots of Original Data and Log and Sqrt Transformed Data"
   ]
  },
  {
   "cell_type": "code",
   "execution_count": 65,
   "id": "d4d215ad",
   "metadata": {},
   "outputs": [
    {
     "data": {
      "text/plain": [
       "2011-01-01    10.978443\n",
       "2012-01-01    11.001088\n",
       "2013-01-01    11.009859\n",
       "2014-01-01    11.030361\n",
       "2015-01-01    11.119997\n",
       "2016-01-01    11.179543\n",
       "2017-01-01    11.191462\n",
       "2018-01-01    11.210759\n",
       "2019-01-01    11.272090\n",
       "Freq: AS-JAN, Name: Police_Dept, dtype: float64"
      ]
     },
     "execution_count": 65,
     "metadata": {},
     "output_type": "execute_result"
    }
   ],
   "source": [
    "np.log(train_police)"
   ]
  },
  {
   "cell_type": "code",
   "execution_count": 66,
   "id": "8de15e64",
   "metadata": {},
   "outputs": [
    {
     "name": "stderr",
     "output_type": "stream",
     "text": [
      "C:\\Users\\NM\\AppData\\Local\\Temp\\ipykernel_21352\\2813237518.py:12: MatplotlibDeprecationWarning: \n",
      "The set_window_title function was deprecated in Matplotlib 3.4 and will be removed two minor releases later. Use manager.set_window_title or GUI-specific methods instead.\n",
      "  fig.canvas.set_window_title('Original Data')\n"
     ]
    },
    {
     "data": {
      "image/png": "[encoded data removed]",
      "text/plain": [
       "<Figure size 864x1080 with 3 Axes>"
      ]
     },
     "metadata": {
      "needs_background": "light"
     },
     "output_type": "display_data"
    }
   ],
   "source": [
    "fig = plt.figure(figsize=(12, 15))\n",
    "fig.suptitle(\"Plots of Original Data and Log and Sqrt Transformed Data\", fontsize=16)\n",
    "    \n",
    "# No transformation\n",
    "ax = plt.subplot(3, 1, 1)\n",
    "ax.set_title(\"Original Data\")\n",
    "plt.xlabel(\"Year\", fontsize=10)\n",
    "plt.ylabel(\"Avg. Pay\", fontsize=10)\n",
    "plt.plot(train_police, color=\"blue\", label='train police data')\n",
    "plt.plot(train_fire, color=\"green\", label='train fire data')\n",
    "plt.plot(train_health, color=\"indianred\", label='train health data')\n",
    "fig.canvas.set_window_title('Original Data')\n",
    "plt.legend()\n",
    "\n",
    "# Log transformation (linear and heteroscedastic)\n",
    "ax = plt.subplot(3, 1, 2)\n",
    "ax.set_title(\"Log Transformation Data\")\n",
    "plt.xlabel(\"Year\", fontsize=10)\n",
    "plt.ylabel(\"log(Avg. Pay)\", fontsize=10)\n",
    "plt.plot(np.log(train_police), color=\"blue\", label='train log police data')\n",
    "plt.plot(np.log(train_fire), color=\"green\", label='train log fire data')\n",
    "plt.plot(np.log(train_health), color=\"indianred\", label='train log health data')\n",
    "plt.legend()\n",
    "\n",
    "# Square root transformation \n",
    "ax = plt.subplot(3, 1, 3)\n",
    "ax.set_title(\"SQRT Transformation Data\")\n",
    "plt.xlabel(\"Year\", fontsize=10)\n",
    "plt.ylabel(\"sqrt(Avg. Pay)\", fontsize=10)\n",
    "plt.plot(np.sqrt(train_police), color=\"blue\", label='train sqrt police data')\n",
    "plt.plot(np.sqrt(train_fire), color=\"green\", label='train sqrt fire data')\n",
    "plt.plot(np.sqrt(train_health), color=\"indianred\", label='train sqrt health data')\n",
    "plt.legend()\n",
    "\n",
    "plt.show()"
   ]
  },
  {
   "cell_type": "markdown",
   "id": "d25d0373",
   "metadata": {},
   "source": [
    "### Plots of Rolling Mean\n",
    "**Ultimately, these were not needed!**"
   ]
  },
  {
   "cell_type": "code",
   "execution_count": 67,
   "id": "4a517468",
   "metadata": {},
   "outputs": [
    {
     "data": {
      "image/png": "[encoded data removed]",
      "text/plain": [
       "<Figure size 864x504 with 1 Axes>"
      ]
     },
     "metadata": {
      "needs_background": "light"
     },
     "output_type": "display_data"
    }
   ],
   "source": [
    "rolmean = train_police.rolling(window=3, center=False).mean()\n",
    "rolstd = train_police.rolling(window=3, center=False).std()\n",
    "\n",
    "fig = plt.figure(figsize=(12, 7))\n",
    "orig = plt.plot(train_police, color='blue', label='Original')\n",
    "mean = plt.plot(rolmean, color='red', label='Rolling Mean')\n",
    "# std = plt.plot(rolstd, color='black', label='Rolling Std')\n",
    "plt.legend(loc='best')\n",
    "plt.title('Rolling Mean')\n",
    "plt.show(block=False)"
   ]
  },
  {
   "cell_type": "code",
   "execution_count": 68,
   "id": "7c9b09ff",
   "metadata": {},
   "outputs": [
    {
     "name": "stdout",
     "output_type": "stream",
     "text": [
      "2011-01-01    242.068625\n",
      "2012-01-01    244.825033\n",
      "2013-01-01    245.901175\n",
      "2014-01-01    248.434764\n",
      "2015-01-01    259.822450\n",
      "2016-01-01    267.674395\n",
      "2017-01-01    269.274434\n",
      "2018-01-01    271.885107\n",
      "2019-01-01    280.351768\n",
      "Freq: AS-JAN, Name: Police_Dept, dtype: float64 2011-01-01             NaN\n",
      "2012-01-01             NaN\n",
      "2013-01-01   -59422.066690\n",
      "2014-01-01   -60460.403946\n",
      "2015-01-01   -62971.819241\n",
      "2016-01-01   -66691.365382\n",
      "2017-01-01   -70286.061718\n",
      "2018-01-01   -72421.386320\n",
      "2019-01-01   -74728.763542\n",
      "Freq: AS-JAN, Name: Police_Dept, dtype: float64\n"
     ]
    }
   ],
   "source": [
    "# Subtract the moving average from the original data and check head for Nans\n",
    "data_sqrt_transform = pd.Series(np.sqrt(train_police))\n",
    "data_log_transform = pd.Series(np.log(train_police))\n",
    "data_sqrt_minus_rolmean = data_sqrt_transform - rolmean\n",
    "data_log_minus_rolmean = data_log_transform - rolmean\n",
    "print(data_sqrt_transform, data_sqrt_minus_rolmean)       ############## Investigate/understand the numbers\n"
   ]
  },
  {
   "cell_type": "code",
   "execution_count": 69,
   "id": "586c7c17",
   "metadata": {},
   "outputs": [
    {
     "data": {
      "image/png": "[encoded data removed]",
      "text/plain": [
       "<Figure size 792x216 with 1 Axes>"
      ]
     },
     "metadata": {
      "needs_background": "light"
     },
     "output_type": "display_data"
    }
   ],
   "source": [
    "fig = plt.figure(figsize=(11, 3))\n",
    "plt.plot(data_sqrt_minus_rolmean, label='sqrt payroll - rolling mean')\n",
    "# plt.plot(data_log_minus_rolmean, label='log payroll - rolling mean')\n",
    "plt.legend(loc='best')\n",
    "plt.title('Payroll while the rolling mean is subtracted')\n",
    "plt.show(block=False)\n"
   ]
  },
  {
   "cell_type": "markdown",
   "id": "78609326",
   "metadata": {},
   "source": [
    "### Plots of Differenced Data\n",
    "**Similar to ARIMA(0,1,0)**"
   ]
  },
  {
   "cell_type": "code",
   "execution_count": 70,
   "id": "ba399e8e",
   "metadata": {},
   "outputs": [],
   "source": [
    "diff_train_police = train_police.diff().dropna()\n",
    "diff_train_fire = train_fire.diff().dropna()\n",
    "diff_train_health = train_health.diff(periods=3).dropna()"
   ]
  },
  {
   "cell_type": "code",
   "execution_count": 71,
   "id": "1761ff44",
   "metadata": {},
   "outputs": [
    {
     "name": "stdout",
     "output_type": "stream",
     "text": [
      "Diff Police Series Stats: \n",
      " Test Statistic                -21.010956\n",
      "p-value                         0.000000\n",
      "#Lags Used                      2.000000\n",
      "Number of Observations Used     5.000000\n",
      "Critical Value (1%)            -6.045114\n",
      "Critical Value (5%)            -3.929280\n",
      "Critical Value (10%)           -2.986810\n",
      "dtype: float64 \n",
      "\n",
      "Diff Fire Series Stats: \n",
      " Test Statistic                -1.457692e+01\n",
      "p-value                        4.533281e-27\n",
      "#Lags Used                     2.000000e+00\n",
      "Number of Observations Used    5.000000e+00\n",
      "Critical Value (1%)           -6.045114e+00\n",
      "Critical Value (5%)           -3.929280e+00\n",
      "Critical Value (10%)          -2.986810e+00\n",
      "dtype: float64 \n",
      "\n",
      "Diff Health Series Stats: \n",
      " Test Statistic                -0.168634\n",
      "p-value                        0.942159\n",
      "#Lags Used                     0.000000\n",
      "Number of Observations Used    5.000000\n",
      "Critical Value (1%)           -6.045114\n",
      "Critical Value (5%)           -3.929280\n",
      "Critical Value (10%)          -2.986810\n",
      "dtype: float64 \n",
      "\n"
     ]
    }
   ],
   "source": [
    "print(\"Diff Police Series Stats:\", '\\n', Dickey_Fuller_Test(diff_train_police), '\\n')\n",
    "print(\"Diff Fire Series Stats:\", '\\n', Dickey_Fuller_Test(diff_train_fire), '\\n')\n",
    "print(\"Diff Health Series Stats:\", '\\n', Dickey_Fuller_Test(diff_train_health), '\\n')"
   ]
  },
  {
   "cell_type": "markdown",
   "id": "01e92460",
   "metadata": {},
   "source": [
    "The P value (second value on all 3 sets of data) is close to 0 on the Police and Fire data meaning they are stationary. However, the Health data is clearly not stationary.\n"
   ]
  },
  {
   "cell_type": "code",
   "execution_count": 72,
   "id": "12a71bf5",
   "metadata": {},
   "outputs": [
    {
     "data": {
      "image/png": "[encoded data removed]",
      "text/plain": [
       "<Figure size 936x216 with 1 Axes>"
      ]
     },
     "metadata": {
      "needs_background": "light"
     },
     "output_type": "display_data"
    }
   ],
   "source": [
    "fig = plt.figure(figsize=(13, 3))\n",
    "plt.plot(diff_train_police, label='Police')\n",
    "plt.plot(diff_train_fire, label='Fire')\n",
    "plt.plot(diff_train_health, label='Health')\n",
    "# plt.legend(loc='best')\n",
    "plt.title('Avg Pay after differencing')\n",
    "plt.legend()\n",
    "plt.show(block=False)\n"
   ]
  },
  {
   "cell_type": "code",
   "execution_count": 73,
   "id": "d459e171",
   "metadata": {},
   "outputs": [
    {
     "data": {
      "image/png": "[encoded data removed]",
      "text/plain": [
       "<Figure size 936x216 with 1 Axes>"
      ]
     },
     "metadata": {
      "needs_background": "light"
     },
     "output_type": "display_data"
    }
   ],
   "source": [
    "fig = plt.figure(figsize=(13, 3))\n",
    "plt.plot(train_health.diff(periods=1).dropna(), label='Health 1 Period Diff')\n",
    "plt.plot(train_health.diff(periods=2).dropna(), label='Health 2 Period Diff')\n",
    "plt.plot(train_health.diff(periods=3).dropna(), label='Health 3 Period Diff')\n",
    "# plt.legend(loc='best')\n",
    "plt.title('Health with 1, 2, 3 period differencing')\n",
    "plt.legend()\n",
    "plt.show(block=False)\n"
   ]
  },
  {
   "cell_type": "code",
   "execution_count": null,
   "id": "2143aaf0",
   "metadata": {},
   "outputs": [],
   "source": []
  }
 ],
 "metadata": {
  "kernelspec": {
   "display_name": "Python (learn-env)",
   "language": "python",
   "name": "learn-env"
  },
  "language_info": {
   "codemirror_mode": {
    "name": "ipython",
    "version": 3
   },
   "file_extension": ".py",
   "mimetype": "text/x-python",
   "name": "python",
   "nbconvert_exporter": "python",
   "pygments_lexer": "ipython3",
   "version": "3.9.12"
  }
 },
 "nbformat": 4,
 "nbformat_minor": 5
}
